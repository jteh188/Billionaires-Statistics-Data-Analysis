{
 "cells": [
  {
   "cell_type": "markdown",
   "metadata": {},
   "source": [
    "# COGS 108 - Project Proposal"
   ]
  },
  {
   "cell_type": "markdown",
   "metadata": {},
   "source": [
    "# Names\n",
    "\n",
    "- Pallavi Saksena\n",
    "- Alexander Tang\n",
    "- Chia-Han Chen\n",
    "- Joseph Teh\n",
    "- Ashaank Jha"
   ]
  },
  {
   "cell_type": "markdown",
   "metadata": {},
   "source": [
    "# Research Question"
   ]
  },
  {
   "cell_type": "markdown",
   "metadata": {},
   "source": [
    "-  Include a specific, clear data science question.\n",
    "-  Make sure what you're measuring (variables) to answer the question is clear\n",
    "\n",
    "What is your research question? Include the specific question you're setting out to answer. This question should be specific, answerable with data, and clear. A general question with specific subquestions is permitted. (1-2 sentences)\n",
    "\n",
    "Based on country, what trends are observed among billionaires within that country? What industries are prominent among those billionaires? How likely is someone to be a billionaire based on characteristics such as gender, age, etc.?"
   ]
  },
  {
   "cell_type": "markdown",
   "metadata": {},
   "source": [
    "## Background and Prior Work"
   ]
  },
  {
   "cell_type": "markdown",
   "metadata": {},
   "source": [
    "\n",
    "- Include a general introduction to your topic\n",
    "- Include explanation of what work has been done previously\n",
    "- Include citations or links to previous work\n",
    "\n",
    "This section will present the background and context of your topic and question in a few paragraphs. Include a general introduction to your topic and then describe what information you currently know about the topic after doing your initial research. Include references to other projects who have asked similar questions or approached similar problems. Explain what others have learned in their projects.\n",
    "\n",
    "Find some relevant prior work, and reference those sources, summarizing what each did and what they learned. Even if you think you have a totally novel question, find the most similar prior work that you can and discuss how it relates to your project.\n",
    "\n",
    "References can be research publications, but they need not be. Blogs, GitHub repositories, company websites, etc., are all viable references if they are relevant to your project. It must be clear which information comes from which references. (2-3 paragraphs, including at least 2 references)\n",
    "\n",
    " **Use inline citation through HTML footnotes to specify which references support which statements** \n",
    "\n",
    "For example: After government genocide in the 20th century, real birds were replaced with surveillance drones designed to look just like birds.<a name=\"cite_ref-1\"></a>[<sup>1</sup>](#cite_note-1) Use a minimum of 2 or 3 citations, but we prefer more.<a name=\"cite_ref-2\"></a>[<sup>2</sup>](#cite_note-2) You need enough to fully explain and back up important facts. \n",
    "\n",
    "Note that if you click a footnote number in the paragraph above it will transport you to the proper entry in the footnotes list below.  And if you click the ^ in the footnote entry, it will return you to the place in the main text where the footnote is made.\n",
    "\n",
    "To understand the HTML here, `<a name=\"#...\"> </a>` is a tag that allows you produce a named reference for a given location.  Markdown has the construciton `[text with hyperlink](#named reference)` that will produce a clickable link that transports you the named reference.\n",
    "\n",
    "1. <a name=\"cite_note-1\"></a> [^](#cite_ref-1) Lorenz, T. (9 Dec 2021) Birds Aren’t Real, or Are They? Inside a Gen Z Conspiracy Theory. *The New York Times*. https://www.nytimes.com/2021/12/09/technology/birds-arent-real-gen-z-misinformation.html \n",
    "2. <a name=\"cite_note-2\"></a> [^](#cite_ref-2) Also refs should be important to the background, not some randomly chosen vaguely related stuff. Include a web link if possible in refs as above.\n",
    "\n",
    "As of 2023, there are an estimated 2,640 billionaires in the world, with nearly 15% of the world’s billionaires in the finance industry, 13% in the manufacturing industry, and 12% in the technology industry<a name=\"Forbes\"></a>[<sup>1</sup>](#Forbes1). This project aims to analyze data relating to billionaires’ net worth, source of wealth, age, gender, location, consumer price index of residency, tax revenue of residency, and many other factors <a name=\"Kaggle\"></a>[<sup>2</sup>](#Kaggle1). Our project aims to see whether or not there are specific trends and patterns among these billionaires and if specific industries are more prevalent among today’s billionaires as well. Our project also aims to determine whether there are specific traits among billionaires’ background and characteristics.\n",
    "\n",
    "Previous investigations <a name=\"InvestmentMigration\"></a>[<sup>3</sup>](#IvestmentMigration1) indicate that there may be positive relationships between the number of billionaires, tax rates, quality of life, and GDP ratios in each country. However, there are mixed results in the research as to which factors are more important, so we can use the dataset we found to determine which ones may have the most impact (i.e. which are the most highly correlated) per country. There are also clear differences in the billionaire status based on gender. An article by the New York Times <a name=\"NYTimes\"></a>[<sup>4</sup>](#NYTimes1)describes the statistics of these wealth differences on a global level, but there is less information on how this may vary by country/location. We can look at the specific trends per country to see which ones tend to have more male versus female billionaires, and we may perform exploratory analyses to investigate why those may be the case.\n",
    "\n",
    "Also, different publications use different ways to collect the net worth of billionaires. For example, as of February 10th 2024, according to Forbes<a name=\"Forbes\"></a>[<sup>5</sup>](#Forbes2), the net worth of Bernard Arnault is 219.2B (the first place), but according to Bloomberg<a name=\"Bloomberg\"></a>[<sup>6</sup>](#Bloomberg1), his net worth is 191B (the third place) even though both websites are measured in real time and updated daily.\n",
    "\n",
    "1. <a name=\"Forbes1\"></a> [^](#Forbes)LaFranco, Rob & Peterson-Withorn, Chase. Forbes Billionaires 2023: The Richest People In The World. Forbes. https://www.forbes.com/billionaires/\n",
    "2. <a name=\"Kaggle1\"></a> [^](#Kaggle)Nidula Elgiriyewithana. Billionaires Statistics Dataset (2023). Retrieved February 11, 2024 from https://www.kaggle.com/datasets/nelgiriyewithana/billionaires-statistics-dataset.\n",
    "3. <a name=\"InvestmentMigration1\"></a> [^](#InvestmentMigration)Popov, Vladimir. \"Why Some Countries Have More Billionaires than Others? Explaining Variety in the Billionaire Intensity of GDP.\" Investment Migration Research Paper 2018 3 (2018).\n",
    "https://investmentmigration.org/wp-content/uploads/2020/10/IMC-paper-Popov-IMC-RP-2018-3final.pdf\n",
    "4. <a name=\"NYTimes1\"></a> [^](#NYTimes)Frank, Robert. (30 Dec 2016). “Why Aren’t There More Female Billionaires?” The New York Times.\n",
    "https://www.nytimes.com/2016/12/30/business/why-arent-there-more-female-billionaires.html\n",
    "5. <a name=\"Forbes2\"></a> [^](#Forbes)Real-Time Billionaires List. Forbes.\n",
    "https://www.forbes.com/real-time-billionaires/#7743d3893d78\n",
    "6. <a name=\"Bloomberg1\"></a> [^](#Bloomberg)Bloomberg Billionaires Index. Bloomberg.\n",
    "https://www.bloomberg.com/billionaires/\n",
    "\n"
   ]
  },
  {
   "cell_type": "markdown",
   "metadata": {},
   "source": [
    "# Hypothesis\n"
   ]
  },
  {
   "cell_type": "markdown",
   "metadata": {},
   "source": [
    "\n",
    "- Include your team's hypothesis\n",
    "- Ensure that this hypothesis is clear to readers\n",
    "- Explain why you think this will be the outcome (what was your thinking?)\n",
    "\n",
    "What is your main hypothesis/predictions about what the answer to your question is? Briefly explain your thinking. (2-3 sentences)\n",
    "\n",
    "We hypothesize that the majority of billionaires among all countries will be male and older in age. Additionally, we believe that the people in tech will seem to be younger overall as we are guessing that the number of billionaires in tech is on the rise."
   ]
  },
  {
   "cell_type": "markdown",
   "metadata": {},
   "source": [
    "# Data"
   ]
  },
  {
   "cell_type": "markdown",
   "metadata": {},
   "source": [
    "1. Explain what the **ideal** dataset you would want to answer this question. (This should include: What variables? How many observations? Who/what/how would these data be collected? How would these data be stored/organized?)\n",
    "1. Search for potential **real** datasets that could provide you with something useful for this project.  You do not have to find every piece of data you will use, but you do need to have demonstrated some idea that (a) this data is gettable and (b) that this data may be different from what your ideal is.\n",
    "\n",
    "1. Our ideal dataset would contain variables such as age, gender, industry, net worth, and country. Ideally we would want to include every billionaire that exists in the world. We would want this data colllected directly from each billionaire's company or directly from the individual themself. Preferably, this data would be stored in a dataset with each variable as its own column and each value within each variable is in the tidy data format. We would also want our dataset to be full rather than have scattered missing values.\n",
    "\n",
    "https://www.kaggle.com/datasets/nelgiriyewithana/billionaires-statistics-dataset\n",
    "We found this dataset that contains a large amount of data about 2540 billionaires around the world and it gives information about each billionaire such as country, name, age, industry, etc. This dataset likely does not contain the information of every single billionaire in the world and thus, it is slightly different from our ideal dataset. The data was also collected from various sources like Forbes and other publications and was not collected directly from the source. This dataset also seems to have some missing values which is not ideal."
   ]
  },
  {
   "cell_type": "markdown",
   "metadata": {},
   "source": [
    "# Ethics & Privacy"
   ]
  },
  {
   "cell_type": "markdown",
   "metadata": {},
   "source": [
    "- Thoughtful discussion of ethical concerns included\n",
    "- Ethical concerns consider the whole data science process (question asked, data collected, data being used, the bias in data, analysis, post-analysis, etc.)\n",
    "- How your group handled bias/ethical concerns clearly described\n",
    "\n",
    "Acknowledge and address any ethics & privacy related issues of your question(s), proposed dataset(s), and/or analyses. Use the information provided in lecture to guide your group discussion and thinking. If you need further guidance, check out [Deon's Ethics Checklist](http://deon.drivendata.org/#data-science-ethics-checklist). In particular:\n",
    "\n",
    "- Are there any biases/privacy/terms of use issues with the data you propsed?\n",
    "- Are there potential biases in your dataset(s), in terms of who it composes, and how it was collected, that may be problematic in terms of it allowing for equitable analysis? (For example, does your data exclude particular populations, or is it likely to reflect particular human biases in a way that could be a problem?)\n",
    "- How will you set out to detect these specific biases before, during, and after/when communicating your analysis?\n",
    "- Are there any other issues related to your topic area, data, and/or analyses that are potentially problematic in terms of data privacy and equitable impact?\n",
    "- How will you handle issues you identified?\n",
    "\n",
    "It seems like the data was gathered through publically available sources so it would not seem like we need to get consent from these public figures to include them in our study. It could be possible that some billionaires may have been left out because of being less well known or from smaller countries. Because we did not collect the data directly from the billionaires directly, there could be bias present in the data. We can maybe try to find the sources that were used to compile this data and see for oursleves if there may be any previous bias present. We also do not get insight into the backgrounds of these billionaires as some may have started with more money and thus had an easier time building their wealth. Additionally, it may be easier to become a billionaire in certain countries rather than others. In order to detect these biases, we may want to perform an exploratory analysis on the data to determine which countries might have a large proportion of billionaires compared to population. It may also be possible that gender and age bias regarding billionaire status and how calculations of wealth are determined. We could try to find more data about the ages that people first became billionaires."
   ]
  },
  {
   "cell_type": "markdown",
   "metadata": {},
   "source": [
    "# Team Expectations "
   ]
  },
  {
   "cell_type": "markdown",
   "metadata": {},
   "source": [
    "\n",
    "Read over the [COGS108 Team Policies](https://github.com/COGS108/Projects/blob/master/COGS108_TeamPolicies.md) individually. Then, include your group’s expectations of one another for successful completion of your COGS108 project below. Discuss and agree on what all of your expectations are. Discuss how your team will communicate throughout the quarter and consider how you will communicate respectfully should conflicts arise. By including each member’s name above and by adding their name to the submission, you are indicating that you have read the COGS108 Team Policies, accept your team’s expectations below, and have every intention to fulfill them. These expectations are for your team’s use and benefit — they won’t be graded for their details.\n",
    "\n",
    "1. We expect to meet at least once a week over Zoom to discuss our progress while communicating regularly throughout the week over Discord.\n",
    "2. If any conflict should arise, we can meet and talk it over and come to a resolution. If no resolution can be found, we will try to meet with professor to help us resolve our problem.\n",
    "3. Everybody will do their fair share of work whether we are meeting together or we have divided up the work individually."
   ]
  },
  {
   "cell_type": "markdown",
   "metadata": {},
   "source": [
    "# Project Timeline Proposal"
   ]
  },
  {
   "cell_type": "markdown",
   "metadata": {},
   "source": [
    "Specify your team's specific project timeline. An example timeline has been provided. Changes the dates, times, names, and details to fit your group's plan.\n",
    "\n",
    "If you think you will need any special resources or training outside what we have covered in COGS 108 to solve your problem, then your proposal should state these clearly. For example, if you have selected a problem that involves implementing multiple neural networks, please state this so we can make sure you know what you’re doing and so we can point you to resources you will need to implement your project. Note that you are not required to use outside methods.\n",
    "\n",
    "\n",
    "\n",
    "| Meeting Date  | Meeting Time| Completed Before Meeting  | Discuss at Meeting |\n",
    "|---|---|---|---|\n",
    "| 1/20  |  1 PM | Read & Think about COGS 108 expectations; brainstorm topics/questions  | Determine best form of communication; Discuss and decide on final project topic; discuss hypothesis; begin background research | \n",
    "| 1/26  |  10 AM |  Do background research on topic | Discuss ideal dataset(s) and ethics; draft project proposal | \n",
    "| 2/11  | 10 AM  | Edit, finalize, and submit proposal; Search for datasets  | Discuss Wrangling and possible analytical approaches; Assign group members to lead each specific part   |\n",
    "| 2/18  | 6 PM  | Import & Wrangle Data (Ant Man); EDA (Hulk) | Review/Edit wrangling/EDA; Discuss Analysis Plan   |\n",
    "| 3/3  | 12 PM  | Finalize wrangling/EDA; Begin Analysis (Iron Man; Thor) | Discuss/edit Analysis; Complete project check-in |\n",
    "| 3/10  | 12 PM  | Complete analysis; Draft results/conclusion/discussion (Wasp)| Discuss/edit full project |\n",
    "| 3/20  | Before 11:59 PM  | NA | Turn in Final Project & Group Project Surveys |"
   ]
  },
  {
   "cell_type": "code",
   "execution_count": null,
   "metadata": {},
   "outputs": [],
   "source": []
  }
 ],
 "metadata": {
  "kernelspec": {
   "display_name": "Python 3",
   "language": "python",
   "name": "python3"
  },
  "language_info": {
   "codemirror_mode": {
    "name": "ipython",
    "version": 3
   },
   "file_extension": ".py",
   "mimetype": "text/x-python",
   "name": "python",
   "nbconvert_exporter": "python",
   "pygments_lexer": "ipython3",
   "version": "3.6.5"
  }
 },
 "nbformat": 4,
 "nbformat_minor": 2
}
