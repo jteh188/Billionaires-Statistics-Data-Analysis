{
 "cells": [
  {
   "cell_type": "markdown",
   "metadata": {},
   "source": [
    "**If you lost points on the last checkpoint you can get them back by responding to TA/IA feedback**  \n",
    "\n",
    "Update/change the relevant sections where you lost those points, make sure you respond on GitHub Issues to your TA/IA to call their attention to the changes you made here.\n",
    "\n",
    "Please update your Timeline... no battle plan survives contact with the enemy, so make sure we understand how your plans have changed."
   ]
  },
  {
   "cell_type": "markdown",
   "metadata": {},
   "source": [
    "# COGS 108 - Data Checkpoint"
   ]
  },
  {
   "cell_type": "markdown",
   "metadata": {},
   "source": [
    "# Names\n",
    "\n",
    "- Pallavi Saksena\n",
    "- Alexander Tang\n",
    "- Chia-Han Chen\n",
    "- Ashaank Jha\n",
    "- Joseph Teh"
   ]
  },
  {
   "cell_type": "markdown",
   "metadata": {},
   "source": [
    "# Research Question"
   ]
  },
  {
   "cell_type": "markdown",
   "metadata": {},
   "source": [
    "What economic factors (profession/industry, country/city residence, GDP, etc.) or personal traits (gender, age, education, self made/inherited wealth, etc.) are associated with billionaires in high-income countries versus low-income countries?"
   ]
  },
  {
   "cell_type": "markdown",
   "metadata": {},
   "source": [
    "## Background and Prior Work"
   ]
  },
  {
   "cell_type": "markdown",
   "metadata": {},
   "source": [
    "As of 2023, there are an estimated 2,640 billionaires in the world, with nearly 15% of the world’s billionaires in the finance industry, 13% in the manufacturing industry, and 12% in the technology industry.<a name=\"Forbes\"></a>[<sup>1</sup>](#Forbes) According to recent studies, roughly 11% of the world’s billionaires have either run for election or have held a political position, with former examples including Donald Trump, Michael Bloomberg and Tom Steyer.<a name=\"CNBC\"></a>[<sup>2</sup>](#CNBC) Oftentimes, these billionaires hold great amounts of political power through secret donations to political candidates, parties, and super PACs, and they also invest in crucial industries that allow them to have a lot of influence over their respective countries <a name=\"CNBC\"></a>[<sup>2</sup>](#CNBC). By analyzing how these billionaires currently spend their fortune and their origin of wealth, it may potentially lead to insights into how certain countries are operated.\n",
    "\n",
    "This project aims to analyze data relating to billionaires’ net worth, source of wealth, age, gender, location, consumer price index of residency, tax revenue of residency, and many other factors.<a name=\"Kaggle\"></a>[<sup>3</sup>](#Kaggle) Our project aims to see whether or not there are specific trends and patterns among these billionaires and specific industries in high-income versus low-income countries. Our project also aims to determine whether there are specific traits among billionaires’ background and characteristics.\n",
    "\n",
    "Previous investigations <a name=\"InvestmentMigration\"></a>[<sup>4</sup>](#IvestmentMigration) indicate that there may be positive relationships between the number of billionaires, tax rates, quality of life, and GDP ratios in each country. However, there are mixed results in the research as to which factors are more important, so we can use the dataset we found to determine which ones may have the most impact (i.e. which are the most highly correlated) per country. As this research has been inconclusive, we aim to clarify the findings further. We will be categorizing industries into three different groups (primary, secondary, and tertiary) according to the three-sector model <a name=\"Fisher\"></a>[<sup>5</sup>](#Fisher). Primary industries focus heavily on extracting raw materials such as the mining industry. Secondary industries specialize in the manufacturing of goods such as the automotive industry. Lastly, the tertiary sector consists of industries that transport and distribute/sell manufactured goods such as the retail industry. This model will allow us to distinguish between different types of industries during our research.\n",
    "\n",
    "There are also clear differences in the billionaire status based on gender. An article by the New York Times <a name=\"NYTimes\"></a>[<sup>6</sup>](#NYTimes)describes the statistics of these wealth differences on a global level, but there is less information on how this may vary by industry and country/location. We can look at the specific trends per industry and per country to see which ones tend to have more male versus female billionaires, and we may perform exploratory analyses to investigate why those may be the case.\n",
    "\n",
    "Also, different publications use different ways to collect the net worth of billionaires. For example, as of February 10th 2024, according to Forbes, the net worth of Bernard Arnault is 219.2B (the first place)<a name=\"Forbes2\"></a>[<sup>7</sup>](#Forbes2), but according to Bloomberg, his net worth is 191B (the third place) even though both websites are measured in real time and updated daily.<a name=\"Bloomberg\"></a>[<sup>8</sup>](#Bloomberg)\n",
    "\n",
    "Finally, classifying the countries of origin by Income levels - High and Low- per the World Bank’s definition of High Income economies, provides a further level of analysis that can enrich the understanding of wealth accumulation throughout the world. It can provide a deeper insight into the economic conditions that lead to Billionaire status as well as differences among billionaires from their respective countries. <a name=\"WorldBank\"></a>[<sup>9</sup>](#WorldBank)\n",
    "\n",
    "The significance of this study lies in the fact that billionaires often wield a disproportionate amount of power in shaping economic and social policy, as well as general social trends. Thus understanding the backgrounds of these people with immense power is vital to understanding broader societal trends, such as wealth inequality, social mobility, and tax policy. Additionally analyzing the different factors that may lead to billionaire status can help economists understand the systems of different countries and their effect on wealth accumulation and distribution.\n",
    "\n",
    "1. <a name=\"Forbes\"></a> [^](#Forbes)LaFranco, Rob & Peterson-Withorn, Chase. Forbes Billionaires 2023: The Richest People In The World. Forbes. https://www.forbes.com/billionaires/\n",
    "2. <a name=\"CNBC\"></a> [^](#CNBC)Frank, Robert. (26 Oct 2023). “Billionaire politicians have become ‘shockingly common’ around the world, new study finds.” CNBC. https://www.cnbc.com/2023/10/26/billionaire-politicians-shockingly-common-study.html\n",
    "3. <a name=\"Kaggle\"></a> [^](#Kaggle)Nidula Elgiriyewithana. Billionaires Statistics Dataset (2023). Retrieved February 11, 2024 from https://www.kaggle.com/datasets/nelgiriyewithana/billionaires-statistics-dataset.\n",
    "4. <a name=\"InvestmentMigration\"></a> [^](#InvestmentMigration)Popov, Vladimir. \"Why Some Countries Have More Billionaires than Others? Explaining Variety in the Billionaire Intensity of GDP.\" Investment Migration Research Paper 2018 3 (2018).\n",
    "5. <a name=\"Fisher\"></a> [^](#Fisher)Fisher, Allan G. B. (1939). \"Production, primary, secondary and tertiary\". Economic Record. 15 (1): 24–38. doi:10.1111/j.1475-4932.1939.tb01015.x.\n",
    "https://investmentmigration.org/wp-content/uploads/2020/10/IMC-paper-Popov-IMC-RP-2018-3final.pdf\n",
    "6. <a name=\"NYTimes\"></a> [^](#NYTimes)Frank, Robert. (30 Dec 2016). “Why Aren’t There More Female Billionaires?” The New York Times.\n",
    "https://www.nytimes.com/2016/12/30/business/why-arent-there-more-female-billionaires.html\n",
    "7. <a name=\"Forbes\"></a> [^](#Forbes2)Real-Time Billionaires List. Forbes.\n",
    "https://www.forbes.com/real-time-billionaires/#7743d3893d78\n",
    "8. <a name=\"Bloomberg\"></a> [^](#Bloomberg)Bloomberg Billionaires Index. Bloomberg.\n",
    "https://www.bloomberg.com/billionaires/\n",
    "9. <a name=\"WorldBank\"></a> [^](#WorldBank)High-Income Countries 2024. World Bank. https://worldpopulationreview.com/country-rankings/high-income-countries"
   ]
  },
  {
   "cell_type": "markdown",
   "metadata": {},
   "source": [
    "# Hypothesis\n"
   ]
  },
  {
   "cell_type": "markdown",
   "metadata": {},
   "source": [
    "We hypothesize that the majority of billionaires among developing countries will come from the primary and secondary industries. In addition, we hypothesize that there is a higher proportion of billionaires among developed countries who are primarily in the tertiary sectors compared to developing countries. We also hypothesize that most billionaires in the world, across all industries and in both developed and developing countries, are men and older in age."
   ]
  },
  {
   "cell_type": "markdown",
   "metadata": {},
   "source": [
    "# Data"
   ]
  },
  {
   "cell_type": "markdown",
   "metadata": {},
   "source": [
    "## Data overview\n",
    "\n",
    "For each dataset include the following information\n",
    "- Dataset #1\n",
    "  - Dataset Name: Billionaires Statistics Dataset (2023)\n",
    "  - Link to the dataset: https://www.kaggle.com/datasets/nelgiriyewithana/billionaires-statistics-dataset\n",
    "  - Number of observations: 2638\n",
    "  - Number of variables: 35\n",
    "- Dataset #2 (if you have more than one!)\n",
    "  - Dataset Name: High-Income Countries 2024\n",
    "  - Link to the dataset: https://worldpopulationreview.com/country-rankings/high-income-countries\n",
    "  - Number of observations: 80\n",
    "  - Number of variables: 4\n",
    "\n",
    "Now write 2 - 5 sentences describing each dataset here. Include a short description of the important variables in the dataset; what the metrics and datatypes are, what concepts they may be proxies for. Include information about how you would need to wrangle/clean/preprocess the dataset\n",
    "\n",
    "If you plan to use multiple datasets, add a few sentences about how you plan to combine these datasets.\n",
    "\n",
    "Billionaires Statistics Dataset (2023)\n",
    "We will be using this dataset as our main dataset which includes the information about all the billionaires we will be including in our research. Some of the important variables that we will be looking at from this dataset include country, age, gender, and industries. The country variable will allow us to determine whether the billionaire resides in a high-income country or not by looking at the list of countries in the other dataset. Age and gender will be used to look at the personal characteristics of each billionaire which will help us find trends among the billionaires. Lastly, industries will be used to categorize each billionaire’s industry into one of the three industry sectors referenced earlier. We would likely want to add a column to denote high-income countries with values being True or False and another column to denote industry sector with values being Primary, Secondary, and Tertiary.\n",
    "\n",
    "High-Income Countries 2024\n",
    "Using this dataset, we will create a new column in the primary dataset to indicate whether a country is high-income or non high-income. Any countries listed in both datasets will be classified as high-income, and the remaining countries in the first dataset will be classified as non high-income. These classifications will then be used in comparing the results of our data analysis on various countries to see if we can determine any differences between the two classifications based on the three-sector model. Additionally standardizing the country names  will be necessary to avoid missing a country classified as high income."
   ]
  },
  {
   "cell_type": "markdown",
   "metadata": {},
   "source": [
    "Billionaires Statistics Dataset (2023)"
   ]
  },
  {
   "cell_type": "code",
   "execution_count": 1,
   "metadata": {
    "scrolled": true
   },
   "outputs": [],
   "source": [
    "import numpy as np\n",
    "import pandas as pd"
   ]
  },
  {
   "cell_type": "code",
   "execution_count": 12,
   "metadata": {},
   "outputs": [],
   "source": [
    "## YOUR CODE TO LOAD/CLEAN/TIDY/WRANGLE THE DATA GOES HERE\n",
    "## FEEL FREE TO ADD MULTIPLE CELLS PER SECTION \n",
    "billionaires = pd.read_csv('Billionaires Statistics Dataset.csv')"
   ]
  },
  {
   "cell_type": "code",
   "execution_count": 9,
   "metadata": {
    "scrolled": false
   },
   "outputs": [
    {
     "data": {
      "text/plain": [
       "rank                                             0\n",
       "finalWorth                                       0\n",
       "category                                         0\n",
       "personName                                       0\n",
       "age                                             65\n",
       "country                                         38\n",
       "city                                            72\n",
       "source                                           0\n",
       "industries                                       0\n",
       "countryOfCitizenship                             0\n",
       "organization                                  2315\n",
       "selfMade                                         0\n",
       "status                                           0\n",
       "gender                                           0\n",
       "birthDate                                       76\n",
       "lastName                                         0\n",
       "firstName                                        3\n",
       "title                                         2301\n",
       "date                                             0\n",
       "state                                         1887\n",
       "residenceStateRegion                          1893\n",
       "birthYear                                       76\n",
       "birthMonth                                      76\n",
       "birthDay                                        76\n",
       "cpi_country                                    184\n",
       "cpi_change_country                             184\n",
       "gdp_country                                    164\n",
       "gross_tertiary_education_enrollment            182\n",
       "gross_primary_education_enrollment_country     181\n",
       "life_expectancy_country                        182\n",
       "tax_revenue_country_country                    183\n",
       "total_tax_rate_country                         182\n",
       "population_country                             164\n",
       "latitude_country                               164\n",
       "longitude_country                              164\n",
       "dtype: int64"
      ]
     },
     "execution_count": 9,
     "metadata": {},
     "output_type": "execute_result"
    }
   ],
   "source": [
    "billionaires.isnull().sum()"
   ]
  },
  {
   "cell_type": "code",
   "execution_count": 18,
   "metadata": {
    "scrolled": true
   },
   "outputs": [
    {
     "data": {
      "text/plain": [
       "personName                                      0\n",
       "age                                            65\n",
       "country                                        38\n",
       "industries                                      0\n",
       "selfMade                                        0\n",
       "gender                                          0\n",
       "gdp_country                                   164\n",
       "gross_tertiary_education_enrollment           182\n",
       "gross_primary_education_enrollment_country    181\n",
       "total_tax_rate_country                        182\n",
       "dtype: int64"
      ]
     },
     "execution_count": 18,
     "metadata": {},
     "output_type": "execute_result"
    }
   ],
   "source": [
    "billionaires_dropped = billionaires[['personName','age','country','industries','selfMade','gender','gdp_country','gross_tertiary_education_enrollment','gross_primary_education_enrollment_country', 'total_tax_rate_country']]\n",
    "billionaires_dropped.isnull().sum()"
   ]
  },
  {
   "cell_type": "code",
   "execution_count": 17,
   "metadata": {
    "scrolled": false
   },
   "outputs": [
    {
     "data": {
      "text/plain": [
       "Finance & Investments         372\n",
       "Manufacturing                 324\n",
       "Technology                    314\n",
       "Fashion & Retail              266\n",
       "Food & Beverage               212\n",
       "Healthcare                    201\n",
       "Real Estate                   193\n",
       "Diversified                   187\n",
       "Energy                        100\n",
       "Media & Entertainment          91\n",
       "Metals & Mining                74\n",
       "Automotive                     73\n",
       "Service                        53\n",
       "Construction & Engineering     45\n",
       "Logistics                      40\n",
       "Sports                         39\n",
       "Telecom                        31\n",
       "Gambling & Casinos             25\n",
       "Name: industries, dtype: int64"
      ]
     },
     "execution_count": 17,
     "metadata": {},
     "output_type": "execute_result"
    }
   ],
   "source": [
    "billionaires_dropped['industries'].value_counts()"
   ]
  },
  {
   "cell_type": "code",
   "execution_count": 19,
   "metadata": {
    "scrolled": true
   },
   "outputs": [
    {
     "data": {
      "text/plain": [
       "personName                                      0\n",
       "age                                             0\n",
       "country                                         0\n",
       "industries                                      0\n",
       "selfMade                                        0\n",
       "gender                                          0\n",
       "gdp_country                                   122\n",
       "gross_tertiary_education_enrollment           140\n",
       "gross_primary_education_enrollment_country    139\n",
       "total_tax_rate_country                        140\n",
       "dtype: int64"
      ]
     },
     "execution_count": 19,
     "metadata": {},
     "output_type": "execute_result"
    }
   ],
   "source": [
    "billionaires_dropped = billionaires_dropped.dropna(subset = ['age','country'])\n",
    "billionaires_dropped.isnull().sum()\n",
    "\n",
    "#Are not currently dropping null values from last few columns as these are not our main variables of interest.\n",
    "#We will keep these values in our dataset for the sake of our EDA in the coming week"
   ]
  },
  {
   "cell_type": "markdown",
   "metadata": {},
   "source": [
    "## Dataset #2 (if you have more than one, use name instead of number here)"
   ]
  },
  {
   "cell_type": "code",
   "execution_count": 20,
   "metadata": {},
   "outputs": [],
   "source": [
    "## YOUR CODE TO LOAD/CLEAN/TIDY/WRANGLE THE DATA GOES HERE\n",
    "## FEEL FREE TO ADD MULTIPLE CELLS PER SECTION \n",
    "high_income = pd.read_csv('High_Income_2023.csv')"
   ]
  },
  {
   "cell_type": "code",
   "execution_count": 25,
   "metadata": {
    "scrolled": true
   },
   "outputs": [
    {
     "data": {
      "text/plain": [
       "['Bermuda',\n",
       " 'Liechtenstein',\n",
       " 'Switzerland',\n",
       " 'Luxembourg',\n",
       " 'Norway',\n",
       " 'Isle of Man',\n",
       " 'Ireland',\n",
       " 'United States',\n",
       " 'Faroe Islands',\n",
       " 'Denmark',\n",
       " 'Iceland',\n",
       " 'Singapore',\n",
       " 'Qatar',\n",
       " 'Cayman Islands',\n",
       " 'Sweden',\n",
       " 'Netherlands',\n",
       " 'Australia',\n",
       " 'Hong Kong',\n",
       " 'Finland',\n",
       " 'Austria',\n",
       " 'Germany',\n",
       " 'Belgium',\n",
       " 'Israel',\n",
       " 'Canada',\n",
       " 'San Marino',\n",
       " 'Macau',\n",
       " 'New Zealand',\n",
       " 'United Kingdom',\n",
       " 'Andorra',\n",
       " 'France',\n",
       " 'United Arab Emirates',\n",
       " 'Japan',\n",
       " 'New Caledonia',\n",
       " 'Italy',\n",
       " 'South Korea',\n",
       " 'Kuwait',\n",
       " 'Greenland',\n",
       " 'Sint Maarten',\n",
       " 'Malta',\n",
       " 'Brunei',\n",
       " 'Aruba',\n",
       " 'Spain',\n",
       " 'Cyprus',\n",
       " 'Slovenia',\n",
       " 'Bahamas',\n",
       " 'Estonia',\n",
       " 'Bahrain',\n",
       " 'Czech Republic',\n",
       " 'Saudi Arabia',\n",
       " 'Portugal',\n",
       " 'Turks and Caicos Islands',\n",
       " 'Puerto Rico',\n",
       " 'Lithuania',\n",
       " 'Slovakia',\n",
       " 'Greece',\n",
       " 'Latvia',\n",
       " 'French Polynesia',\n",
       " 'Saint Kitts and Nevis',\n",
       " 'Curacao',\n",
       " 'Nauru',\n",
       " 'Oman',\n",
       " 'Croatia',\n",
       " 'Hungary',\n",
       " 'Poland',\n",
       " 'Barbados',\n",
       " 'Antigua and Barbuda',\n",
       " 'Uruguay',\n",
       " 'Trinidad and Tobago',\n",
       " 'Chile',\n",
       " 'Panama',\n",
       " 'Romania']"
      ]
     },
     "execution_count": 25,
     "metadata": {},
     "output_type": "execute_result"
    }
   ],
   "source": [
    "high_income_countries = high_income['country'].tolist()\n",
    "high_income_countries\n",
    "\n",
    "#We will check if countries are in this list to determine whether a country is considered high-income or not"
   ]
  },
  {
   "cell_type": "code",
   "execution_count": 28,
   "metadata": {},
   "outputs": [],
   "source": [
    "#Create new column in main dataframe for high_income countries\n",
    "high_i = []\n",
    "for c in billionaires_dropped['country']:\n",
    "    if c in high_income_countries:\n",
    "        high_i.append(True)\n",
    "    else:\n",
    "        high_i.append(False)\n",
    "billionaires_dropped['high_income'] = high_i"
   ]
  },
  {
   "cell_type": "code",
   "execution_count": 30,
   "metadata": {},
   "outputs": [
    {
     "data": {
      "text/html": [
       "<div>\n",
       "<style scoped>\n",
       "    .dataframe tbody tr th:only-of-type {\n",
       "        vertical-align: middle;\n",
       "    }\n",
       "\n",
       "    .dataframe tbody tr th {\n",
       "        vertical-align: top;\n",
       "    }\n",
       "\n",
       "    .dataframe thead th {\n",
       "        text-align: right;\n",
       "    }\n",
       "</style>\n",
       "<table border=\"1\" class=\"dataframe\">\n",
       "  <thead>\n",
       "    <tr style=\"text-align: right;\">\n",
       "      <th></th>\n",
       "      <th>personName</th>\n",
       "      <th>age</th>\n",
       "      <th>country</th>\n",
       "      <th>industries</th>\n",
       "      <th>selfMade</th>\n",
       "      <th>gender</th>\n",
       "      <th>gdp_country</th>\n",
       "      <th>gross_tertiary_education_enrollment</th>\n",
       "      <th>gross_primary_education_enrollment_country</th>\n",
       "      <th>total_tax_rate_country</th>\n",
       "      <th>high_income</th>\n",
       "    </tr>\n",
       "  </thead>\n",
       "  <tbody>\n",
       "    <tr>\n",
       "      <th>0</th>\n",
       "      <td>Bernard Arnault &amp; family</td>\n",
       "      <td>74.0</td>\n",
       "      <td>France</td>\n",
       "      <td>Fashion &amp; Retail</td>\n",
       "      <td>False</td>\n",
       "      <td>M</td>\n",
       "      <td>$2,715,518,274,227</td>\n",
       "      <td>65.6</td>\n",
       "      <td>102.5</td>\n",
       "      <td>60.7</td>\n",
       "      <td>True</td>\n",
       "    </tr>\n",
       "    <tr>\n",
       "      <th>1</th>\n",
       "      <td>Elon Musk</td>\n",
       "      <td>51.0</td>\n",
       "      <td>United States</td>\n",
       "      <td>Automotive</td>\n",
       "      <td>True</td>\n",
       "      <td>M</td>\n",
       "      <td>$21,427,700,000,000</td>\n",
       "      <td>88.2</td>\n",
       "      <td>101.8</td>\n",
       "      <td>36.6</td>\n",
       "      <td>True</td>\n",
       "    </tr>\n",
       "    <tr>\n",
       "      <th>2</th>\n",
       "      <td>Jeff Bezos</td>\n",
       "      <td>59.0</td>\n",
       "      <td>United States</td>\n",
       "      <td>Technology</td>\n",
       "      <td>True</td>\n",
       "      <td>M</td>\n",
       "      <td>$21,427,700,000,000</td>\n",
       "      <td>88.2</td>\n",
       "      <td>101.8</td>\n",
       "      <td>36.6</td>\n",
       "      <td>True</td>\n",
       "    </tr>\n",
       "    <tr>\n",
       "      <th>3</th>\n",
       "      <td>Larry Ellison</td>\n",
       "      <td>78.0</td>\n",
       "      <td>United States</td>\n",
       "      <td>Technology</td>\n",
       "      <td>True</td>\n",
       "      <td>M</td>\n",
       "      <td>$21,427,700,000,000</td>\n",
       "      <td>88.2</td>\n",
       "      <td>101.8</td>\n",
       "      <td>36.6</td>\n",
       "      <td>True</td>\n",
       "    </tr>\n",
       "    <tr>\n",
       "      <th>4</th>\n",
       "      <td>Warren Buffett</td>\n",
       "      <td>92.0</td>\n",
       "      <td>United States</td>\n",
       "      <td>Finance &amp; Investments</td>\n",
       "      <td>True</td>\n",
       "      <td>M</td>\n",
       "      <td>$21,427,700,000,000</td>\n",
       "      <td>88.2</td>\n",
       "      <td>101.8</td>\n",
       "      <td>36.6</td>\n",
       "      <td>True</td>\n",
       "    </tr>\n",
       "    <tr>\n",
       "      <th>...</th>\n",
       "      <td>...</td>\n",
       "      <td>...</td>\n",
       "      <td>...</td>\n",
       "      <td>...</td>\n",
       "      <td>...</td>\n",
       "      <td>...</td>\n",
       "      <td>...</td>\n",
       "      <td>...</td>\n",
       "      <td>...</td>\n",
       "      <td>...</td>\n",
       "      <td>...</td>\n",
       "    </tr>\n",
       "    <tr>\n",
       "      <th>2635</th>\n",
       "      <td>Yu Rong</td>\n",
       "      <td>51.0</td>\n",
       "      <td>China</td>\n",
       "      <td>Healthcare</td>\n",
       "      <td>True</td>\n",
       "      <td>M</td>\n",
       "      <td>$19,910,000,000,000</td>\n",
       "      <td>50.6</td>\n",
       "      <td>100.2</td>\n",
       "      <td>59.2</td>\n",
       "      <td>False</td>\n",
       "    </tr>\n",
       "    <tr>\n",
       "      <th>2636</th>\n",
       "      <td>Richard Yuengling, Jr.</td>\n",
       "      <td>80.0</td>\n",
       "      <td>United States</td>\n",
       "      <td>Food &amp; Beverage</td>\n",
       "      <td>False</td>\n",
       "      <td>M</td>\n",
       "      <td>$21,427,700,000,000</td>\n",
       "      <td>88.2</td>\n",
       "      <td>101.8</td>\n",
       "      <td>36.6</td>\n",
       "      <td>True</td>\n",
       "    </tr>\n",
       "    <tr>\n",
       "      <th>2637</th>\n",
       "      <td>Zhang Gongyun</td>\n",
       "      <td>60.0</td>\n",
       "      <td>China</td>\n",
       "      <td>Manufacturing</td>\n",
       "      <td>True</td>\n",
       "      <td>M</td>\n",
       "      <td>$19,910,000,000,000</td>\n",
       "      <td>50.6</td>\n",
       "      <td>100.2</td>\n",
       "      <td>59.2</td>\n",
       "      <td>False</td>\n",
       "    </tr>\n",
       "    <tr>\n",
       "      <th>2638</th>\n",
       "      <td>Zhang Guiping &amp; family</td>\n",
       "      <td>71.0</td>\n",
       "      <td>China</td>\n",
       "      <td>Real Estate</td>\n",
       "      <td>True</td>\n",
       "      <td>M</td>\n",
       "      <td>$19,910,000,000,000</td>\n",
       "      <td>50.6</td>\n",
       "      <td>100.2</td>\n",
       "      <td>59.2</td>\n",
       "      <td>False</td>\n",
       "    </tr>\n",
       "    <tr>\n",
       "      <th>2639</th>\n",
       "      <td>Inigo Zobel</td>\n",
       "      <td>66.0</td>\n",
       "      <td>Philippines</td>\n",
       "      <td>Diversified</td>\n",
       "      <td>False</td>\n",
       "      <td>M</td>\n",
       "      <td>$376,795,508,680</td>\n",
       "      <td>35.5</td>\n",
       "      <td>107.5</td>\n",
       "      <td>43.1</td>\n",
       "      <td>False</td>\n",
       "    </tr>\n",
       "  </tbody>\n",
       "</table>\n",
       "<p>2549 rows × 11 columns</p>\n",
       "</div>"
      ],
      "text/plain": [
       "                    personName   age        country             industries  \\\n",
       "0     Bernard Arnault & family  74.0         France       Fashion & Retail   \n",
       "1                    Elon Musk  51.0  United States             Automotive   \n",
       "2                   Jeff Bezos  59.0  United States             Technology   \n",
       "3                Larry Ellison  78.0  United States             Technology   \n",
       "4               Warren Buffett  92.0  United States  Finance & Investments   \n",
       "...                        ...   ...            ...                    ...   \n",
       "2635                   Yu Rong  51.0          China             Healthcare   \n",
       "2636    Richard Yuengling, Jr.  80.0  United States        Food & Beverage   \n",
       "2637             Zhang Gongyun  60.0          China          Manufacturing   \n",
       "2638    Zhang Guiping & family  71.0          China            Real Estate   \n",
       "2639               Inigo Zobel  66.0    Philippines            Diversified   \n",
       "\n",
       "      selfMade gender           gdp_country  \\\n",
       "0        False      M   $2,715,518,274,227    \n",
       "1         True      M  $21,427,700,000,000    \n",
       "2         True      M  $21,427,700,000,000    \n",
       "3         True      M  $21,427,700,000,000    \n",
       "4         True      M  $21,427,700,000,000    \n",
       "...        ...    ...                   ...   \n",
       "2635      True      M  $19,910,000,000,000    \n",
       "2636     False      M  $21,427,700,000,000    \n",
       "2637      True      M  $19,910,000,000,000    \n",
       "2638      True      M  $19,910,000,000,000    \n",
       "2639     False      M     $376,795,508,680    \n",
       "\n",
       "      gross_tertiary_education_enrollment  \\\n",
       "0                                    65.6   \n",
       "1                                    88.2   \n",
       "2                                    88.2   \n",
       "3                                    88.2   \n",
       "4                                    88.2   \n",
       "...                                   ...   \n",
       "2635                                 50.6   \n",
       "2636                                 88.2   \n",
       "2637                                 50.6   \n",
       "2638                                 50.6   \n",
       "2639                                 35.5   \n",
       "\n",
       "      gross_primary_education_enrollment_country  total_tax_rate_country  \\\n",
       "0                                          102.5                    60.7   \n",
       "1                                          101.8                    36.6   \n",
       "2                                          101.8                    36.6   \n",
       "3                                          101.8                    36.6   \n",
       "4                                          101.8                    36.6   \n",
       "...                                          ...                     ...   \n",
       "2635                                       100.2                    59.2   \n",
       "2636                                       101.8                    36.6   \n",
       "2637                                       100.2                    59.2   \n",
       "2638                                       100.2                    59.2   \n",
       "2639                                       107.5                    43.1   \n",
       "\n",
       "      high_income  \n",
       "0            True  \n",
       "1            True  \n",
       "2            True  \n",
       "3            True  \n",
       "4            True  \n",
       "...           ...  \n",
       "2635        False  \n",
       "2636         True  \n",
       "2637        False  \n",
       "2638        False  \n",
       "2639        False  \n",
       "\n",
       "[2549 rows x 11 columns]"
      ]
     },
     "execution_count": 30,
     "metadata": {},
     "output_type": "execute_result"
    }
   ],
   "source": [
    "billionaires_dropped"
   ]
  },
  {
   "cell_type": "markdown",
   "metadata": {},
   "source": [
    " # Ethics & Privacy"
   ]
  },
  {
   "cell_type": "markdown",
   "metadata": {},
   "source": [
    "It seems like the data was gathered through publically available sources so it would not seem like we need to get consent from these public figures to include them in our study. It could be possible that some billionaires may have been left out because of being less well known or from smaller countries. Because we did not collect the data directly from the billionaires directly, there could be bias present in the data. We can maybe try to find the sources that were used to compile this data and see for oursleves if there may be any previous bias present. We also do not get insight into the backgrounds of these billionaires as some may have started with more money and thus had an easier time building their wealth. Additionally, it may be easier to become a billionaire in certain countries rather than others. In order to detect these biases, we may want to perform an exploratory analysis on the data to determine which countries might have a large proportion of billionaires compared to population. It may also be possible that gender and age bias regarding billionaire status and how calculations of wealth are determined. We could try to find more data about the ages that people first became billionaires."
   ]
  },
  {
   "cell_type": "markdown",
   "metadata": {},
   "source": [
    "# Team Expectations "
   ]
  },
  {
   "cell_type": "markdown",
   "metadata": {},
   "source": [
    "* *We expect to meet at least once a week over Zoom to discuss our progress while communicating regularly throughout the week over Discord.*\n",
    "* *If any conflict should arise, we can meet and talk it over and come to a resolution. If no resolution can be found, we will try to meet with professor to help us resolve our problem.*\n",
    "* *Everybody will do their fair share of work whether we are meeting together or we have divided up the work individually.*"
   ]
  },
  {
   "cell_type": "markdown",
   "metadata": {},
   "source": [
    "# Project Timeline Proposal"
   ]
  },
  {
   "cell_type": "markdown",
   "metadata": {},
   "source": [
    "| Meeting Date  | Meeting Time| Completed Before Meeting  | Discuss at Meeting |\n",
    "|---|---|---|---|\n",
    "| 3/3  | 12 PM  | Finalize wrangling/EDA; Begin Analysis | Discuss/edit Analysis; Complete project check-in |\n",
    "| 3/10  | 12 PM  | Complete analysis; Draft results/conclusion/discussion| Discuss/edit full project |\n",
    "| 3/20  | Before 11:59 PM  | NA | Turn in Final Project & Group Project Surveys |"
   ]
  },
  {
   "cell_type": "code",
   "execution_count": null,
   "metadata": {},
   "outputs": [],
   "source": []
  }
 ],
 "metadata": {
  "kernelspec": {
   "display_name": "Python (base)",
   "language": "python",
   "name": "myenv"
  },
  "language_info": {
   "codemirror_mode": {
    "name": "ipython",
    "version": 3
   },
   "file_extension": ".py",
   "mimetype": "text/x-python",
   "name": "python",
   "nbconvert_exporter": "python",
   "pygments_lexer": "ipython3",
   "version": "3.10.8"
  }
 },
 "nbformat": 4,
 "nbformat_minor": 2
}
