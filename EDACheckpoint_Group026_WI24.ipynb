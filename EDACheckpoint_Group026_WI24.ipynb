{
 "cells": [
  {
   "cell_type": "markdown",
   "metadata": {},
   "source": [
    "**If you lost points on the last checkpoint you can get them back by responding to TA/IA feedback**  \n",
    "\n",
    "Update/change the relevant sections where you lost those points, make sure you respond on GitHub Issues to your TA/IA to call their attention to the changes you made here.\n",
    "\n",
    "Please update your Timeline... no battle plan survives contact with the enemy, so make sure we understand how your plans have changed."
   ]
  },
  {
   "cell_type": "markdown",
   "metadata": {},
   "source": [
    "# COGS 108 - EDA Checkpoint"
   ]
  },
  {
   "cell_type": "markdown",
   "metadata": {},
   "source": [
    "# Names\n",
    "\n",
    "- Pallavi Saksena\n",
    "- Alexander Tang\n",
    "- Chia-Han Chen\n",
    "- Ashaank Jha\n",
    "- Joseph Teh"
   ]
  },
  {
   "cell_type": "markdown",
   "metadata": {},
   "source": [
    "# Research Question"
   ]
  },
  {
   "cell_type": "markdown",
   "metadata": {},
   "source": [
    "What economic factors (profession/industry, country/city residence, GDP, etc.) or personal traits (gender, age, education, self made/inherited wealth, etc.) are associated with billionaires in high-income countries versus low-income countries?"
   ]
  },
  {
   "cell_type": "markdown",
   "metadata": {},
   "source": [
    "## Background and Prior Work"
   ]
  },
  {
   "cell_type": "markdown",
   "metadata": {},
   "source": [
    "As of 2023, there are an estimated 2,640 billionaires in the world, with nearly 15% of the world’s billionaires in the finance industry, 13% in the manufacturing industry, and 12% in the technology industry.<a name=\"Forbes\"></a>[<sup>1</sup>](#Forbes) According to recent studies, roughly 11% of the world’s billionaires have either run for election or have held a political position, with former examples including Donald Trump, Michael Bloomberg and Tom Steyer.<a name=\"CNBC\"></a>[<sup>2</sup>](#CNBC) Oftentimes, these billionaires hold great amounts of political power through secret donations to political candidates, parties, and super PACs, and they also invest in crucial industries that allow them to have a lot of influence over their respective countries <a name=\"CNBC\"></a>[<sup>2</sup>](#CNBC). By analyzing how these billionaires currently spend their fortune and their origin of wealth, it may potentially lead to insights into how certain countries are operated.\n",
    "\n",
    "This project aims to analyze data relating to billionaires’ net worth, source of wealth, age, gender, location, consumer price index of residency, tax revenue of residency, and many other factors.<a name=\"Kaggle\"></a>[<sup>3</sup>](#Kaggle) Our project aims to see whether or not there are specific trends and patterns among these billionaires and specific industries in high-income versus low-income countries. Our project also aims to determine whether there are specific traits among billionaires’ background and characteristics.\n",
    "\n",
    "Previous investigations <a name=\"InvestmentMigration\"></a>[<sup>4</sup>](#IvestmentMigration) indicate that there may be positive relationships between the number of billionaires, tax rates, quality of life, and GDP ratios in each country. However, there are mixed results in the research as to which factors are more important, so we can use the dataset we found to determine which ones may have the most impact (i.e. which are the most highly correlated) per country. As this research has been inconclusive, we aim to clarify the findings further. We will be categorizing industries into three different groups (primary, secondary, and tertiary) according to the three-sector model <a name=\"Fisher\"></a>[<sup>5</sup>](#Fisher). Primary industries focus heavily on extracting raw materials such as the mining industry. Secondary industries specialize in the manufacturing of goods such as the automotive industry. Lastly, the tertiary sector consists of industries that transport and distribute/sell manufactured goods such as the retail industry. This model will allow us to distinguish between different types of industries during our research.\n",
    "\n",
    "There are also clear differences in the billionaire status based on gender. An article by the New York Times <a name=\"NYTimes\"></a>[<sup>6</sup>](#NYTimes)describes the statistics of these wealth differences on a global level, but there is less information on how this may vary by industry and country/location. We can look at the specific trends per industry and per country to see which ones tend to have more male versus female billionaires, and we may perform exploratory analyses to investigate why those may be the case.\n",
    "\n",
    "Also, different publications use different ways to collect the net worth of billionaires. For example, as of February 10th 2024, according to Forbes, the net worth of Bernard Arnault is 219.2B (the first place)<a name=\"Forbes2\"></a>[<sup>7</sup>](#Forbes2), but according to Bloomberg, his net worth is 191B (the third place) even though both websites are measured in real time and updated daily.<a name=\"Bloomberg\"></a>[<sup>8</sup>](#Bloomberg)\n",
    "\n",
    "Finally, classifying the countries of origin by Income levels - High and Low- per the World Bank’s definition of High Income economies, provides a further level of analysis that can enrich the understanding of wealth accumulation throughout the world. It can provide a deeper insight into the economic conditions that lead to Billionaire status as well as differences among billionaires from their respective countries. <a name=\"WorldBank\"></a>[<sup>9</sup>](#WorldBank)\n",
    "\n",
    "The significance of this study lies in the fact that billionaires often wield a disproportionate amount of power in shaping economic and social policy, as well as general social trends. Thus understanding the backgrounds of these people with immense power is vital to understanding broader societal trends, such as wealth inequality, social mobility, and tax policy. Additionally analyzing the different factors that may lead to billionaire status can help economists understand the systems of different countries and their effect on wealth accumulation and distribution.\n",
    "\n",
    "1. <a name=\"Forbes\"></a> [^](#Forbes)LaFranco, Rob & Peterson-Withorn, Chase. Forbes Billionaires 2023: The Richest People In The World. Forbes. https://www.forbes.com/billionaires/\n",
    "2. <a name=\"CNBC\"></a> [^](#CNBC)Frank, Robert. (26 Oct 2023). “Billionaire politicians have become ‘shockingly common’ around the world, new study finds.” CNBC. https://www.cnbc.com/2023/10/26/billionaire-politicians-shockingly-common-study.html\n",
    "3. <a name=\"Kaggle\"></a> [^](#Kaggle)Nidula Elgiriyewithana. Billionaires Statistics Dataset (2023). Retrieved February 11, 2024 from https://www.kaggle.com/datasets/nelgiriyewithana/billionaires-statistics-dataset.\n",
    "4. <a name=\"InvestmentMigration\"></a> [^](#InvestmentMigration)Popov, Vladimir. \"Why Some Countries Have More Billionaires than Others? Explaining Variety in the Billionaire Intensity of GDP.\" Investment Migration Research Paper 2018 3 (2018).\n",
    "5. <a name=\"Fisher\"></a> [^](#Fisher)Fisher, Allan G. B. (1939). \"Production, primary, secondary and tertiary\". Economic Record. 15 (1): 24–38. doi:10.1111/j.1475-4932.1939.tb01015.x.\n",
    "https://investmentmigration.org/wp-content/uploads/2020/10/IMC-paper-Popov-IMC-RP-2018-3final.pdf\n",
    "6. <a name=\"NYTimes\"></a> [^](#NYTimes)Frank, Robert. (30 Dec 2016). “Why Aren’t There More Female Billionaires?” The New York Times.\n",
    "https://www.nytimes.com/2016/12/30/business/why-arent-there-more-female-billionaires.html\n",
    "7. <a name=\"Forbes\"></a> [^](#Forbes2)Real-Time Billionaires List. Forbes.\n",
    "https://www.forbes.com/real-time-billionaires/#7743d3893d78\n",
    "8. <a name=\"Bloomberg\"></a> [^](#Bloomberg)Bloomberg Billionaires Index. Bloomberg.\n",
    "https://www.bloomberg.com/billionaires/\n",
    "9. <a name=\"WorldBank\"></a> [^](#WorldBank)High-Income Countries 2024. World Bank. https://worldpopulationreview.com/country-rankings/high-income-countries"
   ]
  },
  {
   "cell_type": "markdown",
   "metadata": {},
   "source": [
    "# Hypothesis\n"
   ]
  },
  {
   "cell_type": "markdown",
   "metadata": {},
   "source": [
    "We hypothesize that the majority of billionaires among developing countries will come from the primary and secondary industries. In addition, we hypothesize that there is a higher proportion of billionaires among developed countries who are primarily in the tertiary sectors compared to developing countries. We also hypothesize that most billionaires in the world, across all industries and in both developed and developing countries, are men and older in age."
   ]
  },
  {
   "cell_type": "markdown",
   "metadata": {},
   "source": [
    "# Data"
   ]
  },
  {
   "cell_type": "markdown",
   "metadata": {},
   "source": [
    "## Data overview\n",
    "\n",
    "For each dataset include the following information\n",
    "- Dataset #1\n",
    "  - Dataset Name: Billionaires Statistics Dataset (2023)\n",
    "  - Link to the dataset: https://www.kaggle.com/datasets/nelgiriyewithana/billionaires-statistics-dataset\n",
    "  - Number of observations: 2638\n",
    "  - Number of variables: 35\n",
    "- Dataset #2 (if you have more than one!)\n",
    "  - Dataset Name: High-Income Countries 2024\n",
    "  - Link to the dataset: https://worldpopulationreview.com/country-rankings/high-income-countries\n",
    "  - Number of observations: 80\n",
    "  - Number of variables: 4\n",
    "\n",
    "Billionaires Statistics Dataset (2023)\n",
    "We will be using this dataset as our main dataset which includes the information about all the billionaires we will be including in our research. Some of the important variables that we will be looking at from this dataset include country, age, gender, and industries. The country variable will allow us to determine whether the billionaire resides in a high-income country or not by looking at the list of countries in the other dataset. Age and gender will be used to look at the personal characteristics of each billionaire which will help us find trends among the billionaires. Lastly, industries will be used to categorize each billionaire’s industry into one of the three industry sectors referenced earlier. We would likely want to add a column to denote high-income countries with values being True or False and another column to denote industry sector with values being Primary, Secondary, and Tertiary.\n",
    "\n",
    "High-Income Countries 2024\n",
    "Using this dataset, we will create a new column in the primary dataset to indicate whether a country is high-income or non high-income. Any countries listed in both datasets will be classified as high-income, and the remaining countries in the first dataset will be classified as non high-income. These classifications will then be used in comparing the results of our data analysis on various countries to see if we can determine any differences between the two classifications based on the three-sector model. Additionally standardizing the country names  will be necessary to avoid missing a country classified as high income.\n",
    "\n",
    "Ultimately, we will merge both datasets so that the final dataset contains information about all the billionaires in our study as well as an indication whether their country is considered high-income or low-income."
   ]
  },
  {
   "cell_type": "markdown",
   "metadata": {},
   "source": [
    "## Billionaires Statistics Dataset (2023)"
   ]
  },
  {
   "cell_type": "code",
   "execution_count": 1,
   "metadata": {},
   "outputs": [],
   "source": [
    "import numpy as np\n",
    "import pandas as pd"
   ]
  },
  {
   "cell_type": "code",
   "execution_count": 2,
   "metadata": {},
   "outputs": [],
   "source": [
    "# Read in billionaires data\n",
    "billionaires = pd.read_csv('Billionaires Statistics Dataset.csv')"
   ]
  },
  {
   "cell_type": "code",
   "execution_count": 3,
   "metadata": {},
   "outputs": [
    {
     "data": {
      "text/plain": [
       "rank                                             0\n",
       "finalWorth                                       0\n",
       "category                                         0\n",
       "personName                                       0\n",
       "age                                             65\n",
       "country                                         38\n",
       "city                                            72\n",
       "source                                           0\n",
       "industries                                       0\n",
       "countryOfCitizenship                             0\n",
       "organization                                  2315\n",
       "selfMade                                         0\n",
       "status                                           0\n",
       "gender                                           0\n",
       "birthDate                                       76\n",
       "lastName                                         0\n",
       "firstName                                        3\n",
       "title                                         2301\n",
       "date                                             0\n",
       "state                                         1887\n",
       "residenceStateRegion                          1893\n",
       "birthYear                                       76\n",
       "birthMonth                                      76\n",
       "birthDay                                        76\n",
       "cpi_country                                    184\n",
       "cpi_change_country                             184\n",
       "gdp_country                                    164\n",
       "gross_tertiary_education_enrollment            182\n",
       "gross_primary_education_enrollment_country     181\n",
       "life_expectancy_country                        182\n",
       "tax_revenue_country_country                    183\n",
       "total_tax_rate_country                         182\n",
       "population_country                             164\n",
       "latitude_country                               164\n",
       "longitude_country                              164\n",
       "dtype: int64"
      ]
     },
     "execution_count": 3,
     "metadata": {},
     "output_type": "execute_result"
    }
   ],
   "source": [
    "# See which variables contain null values\n",
    "billionaires.isnull().sum()"
   ]
  },
  {
   "cell_type": "code",
   "execution_count": 4,
   "metadata": {},
   "outputs": [
    {
     "data": {
      "text/plain": [
       "personName                                      0\n",
       "age                                            65\n",
       "country                                        38\n",
       "industries                                      0\n",
       "selfMade                                        0\n",
       "gender                                          0\n",
       "gdp_country                                   164\n",
       "gross_tertiary_education_enrollment           182\n",
       "gross_primary_education_enrollment_country    181\n",
       "total_tax_rate_country                        182\n",
       "dtype: int64"
      ]
     },
     "execution_count": 4,
     "metadata": {},
     "output_type": "execute_result"
    }
   ],
   "source": [
    "# Drop columns that are unecessary in our study\n",
    "billionaires_dropped = billionaires[['personName','age','country','industries','selfMade','gender','gdp_country','gross_tertiary_education_enrollment','gross_primary_education_enrollment_country', 'total_tax_rate_country']]\n",
    "billionaires_dropped.isnull().sum()"
   ]
  },
  {
   "cell_type": "code",
   "execution_count": 5,
   "metadata": {},
   "outputs": [
    {
     "data": {
      "text/plain": [
       "industries\n",
       "Finance & Investments         372\n",
       "Manufacturing                 324\n",
       "Technology                    314\n",
       "Fashion & Retail              266\n",
       "Food & Beverage               212\n",
       "Healthcare                    201\n",
       "Real Estate                   193\n",
       "Diversified                   187\n",
       "Energy                        100\n",
       "Media & Entertainment          91\n",
       "Metals & Mining                74\n",
       "Automotive                     73\n",
       "Service                        53\n",
       "Construction & Engineering     45\n",
       "Logistics                      40\n",
       "Sports                         39\n",
       "Telecom                        31\n",
       "Gambling & Casinos             25\n",
       "Name: count, dtype: int64"
      ]
     },
     "execution_count": 5,
     "metadata": {},
     "output_type": "execute_result"
    }
   ],
   "source": [
    "# Take a look at the most prominent industries in the dataset\n",
    "billionaires_dropped['industries'].value_counts()"
   ]
  },
  {
   "cell_type": "code",
   "execution_count": 6,
   "metadata": {},
   "outputs": [
    {
     "data": {
      "text/plain": [
       "personName                                      0\n",
       "age                                             0\n",
       "country                                         0\n",
       "industries                                      0\n",
       "selfMade                                        0\n",
       "gender                                          0\n",
       "gdp_country                                   122\n",
       "gross_tertiary_education_enrollment           140\n",
       "gross_primary_education_enrollment_country    139\n",
       "total_tax_rate_country                        140\n",
       "dtype: int64"
      ]
     },
     "execution_count": 6,
     "metadata": {},
     "output_type": "execute_result"
    }
   ],
   "source": [
    "# Drop rows which contain null values in our most important variables\n",
    "billionaires_dropped = billionaires_dropped.dropna(subset = ['age','country'])\n",
    "billionaires_dropped.isnull().sum()\n",
    "\n",
    "# Are not currently dropping null values from last few columns as these are not our main variables of interest.\n",
    "# We will keep these values in our dataset for the sake of our EDA"
   ]
  },
  {
   "cell_type": "markdown",
   "metadata": {},
   "source": [
    "## High-Income Countries 2024"
   ]
  },
  {
   "cell_type": "code",
   "execution_count": 7,
   "metadata": {},
   "outputs": [],
   "source": [
    "# Read in dataset which contains information about high-income countries\n",
    "high_income = pd.read_csv('High_Income_2023.csv')"
   ]
  },
  {
   "cell_type": "code",
   "execution_count": 8,
   "metadata": {},
   "outputs": [
    {
     "data": {
      "text/plain": [
       "['Bermuda',\n",
       " 'Liechtenstein',\n",
       " 'Switzerland',\n",
       " 'Luxembourg',\n",
       " 'Norway',\n",
       " 'Isle of Man',\n",
       " 'Ireland',\n",
       " 'United States',\n",
       " 'Faroe Islands',\n",
       " 'Denmark',\n",
       " 'Iceland',\n",
       " 'Singapore',\n",
       " 'Qatar',\n",
       " 'Cayman Islands',\n",
       " 'Sweden',\n",
       " 'Netherlands',\n",
       " 'Australia',\n",
       " 'Hong Kong',\n",
       " 'Finland',\n",
       " 'Austria',\n",
       " 'Germany',\n",
       " 'Belgium',\n",
       " 'Israel',\n",
       " 'Canada',\n",
       " 'San Marino',\n",
       " 'Macau',\n",
       " 'New Zealand',\n",
       " 'United Kingdom',\n",
       " 'Andorra',\n",
       " 'France',\n",
       " 'United Arab Emirates',\n",
       " 'Japan',\n",
       " 'New Caledonia',\n",
       " 'Italy',\n",
       " 'South Korea',\n",
       " 'Kuwait',\n",
       " 'Greenland',\n",
       " 'Sint Maarten',\n",
       " 'Malta',\n",
       " 'Brunei',\n",
       " 'Aruba',\n",
       " 'Spain',\n",
       " 'Cyprus',\n",
       " 'Slovenia',\n",
       " 'Bahamas',\n",
       " 'Estonia',\n",
       " 'Bahrain',\n",
       " 'Czech Republic',\n",
       " 'Saudi Arabia',\n",
       " 'Portugal',\n",
       " 'Turks and Caicos Islands',\n",
       " 'Puerto Rico',\n",
       " 'Lithuania',\n",
       " 'Slovakia',\n",
       " 'Greece',\n",
       " 'Latvia',\n",
       " 'French Polynesia',\n",
       " 'Saint Kitts and Nevis',\n",
       " 'Curacao',\n",
       " 'Nauru',\n",
       " 'Oman',\n",
       " 'Croatia',\n",
       " 'Hungary',\n",
       " 'Poland',\n",
       " 'Barbados',\n",
       " 'Antigua and Barbuda',\n",
       " 'Uruguay',\n",
       " 'Trinidad and Tobago',\n",
       " 'Chile',\n",
       " 'Panama',\n",
       " 'Romania']"
      ]
     },
     "execution_count": 8,
     "metadata": {},
     "output_type": "execute_result"
    }
   ],
   "source": [
    "# Create a list of all high-income countries in the world\n",
    "high_income_countries = high_income['country'].tolist()\n",
    "high_income_countries"
   ]
  },
  {
   "cell_type": "markdown",
   "metadata": {},
   "source": [
    "## Create Final Dataset"
   ]
  },
  {
   "cell_type": "code",
   "execution_count": 9,
   "metadata": {},
   "outputs": [],
   "source": [
    "#Create new column in main dataframe for high_income countries\n",
    "high_i = []\n",
    "for c in billionaires_dropped['country']:\n",
    "    if c in high_income_countries:\n",
    "        high_i.append(True)\n",
    "    else:\n",
    "        high_i.append(False)\n",
    "billionaires_dropped['high_income'] = high_i"
   ]
  },
  {
   "cell_type": "code",
   "execution_count": 108,
   "metadata": {},
   "outputs": [
    {
     "data": {
      "text/html": [
       "<div>\n",
       "<style scoped>\n",
       "    .dataframe tbody tr th:only-of-type {\n",
       "        vertical-align: middle;\n",
       "    }\n",
       "\n",
       "    .dataframe tbody tr th {\n",
       "        vertical-align: top;\n",
       "    }\n",
       "\n",
       "    .dataframe thead th {\n",
       "        text-align: right;\n",
       "    }\n",
       "</style>\n",
       "<table border=\"1\" class=\"dataframe\">\n",
       "  <thead>\n",
       "    <tr style=\"text-align: right;\">\n",
       "      <th></th>\n",
       "      <th>personName</th>\n",
       "      <th>age</th>\n",
       "      <th>country</th>\n",
       "      <th>industries</th>\n",
       "      <th>selfMade</th>\n",
       "      <th>gender</th>\n",
       "      <th>gdp_country</th>\n",
       "      <th>gross_tertiary_education_enrollment</th>\n",
       "      <th>gross_primary_education_enrollment_country</th>\n",
       "      <th>total_tax_rate_country</th>\n",
       "      <th>high_income</th>\n",
       "    </tr>\n",
       "  </thead>\n",
       "  <tbody>\n",
       "    <tr>\n",
       "      <th>0</th>\n",
       "      <td>Bernard Arnault &amp; family</td>\n",
       "      <td>74.0</td>\n",
       "      <td>France</td>\n",
       "      <td>Fashion &amp; Retail</td>\n",
       "      <td>False</td>\n",
       "      <td>M</td>\n",
       "      <td>$2,715,518,274,227</td>\n",
       "      <td>65.6</td>\n",
       "      <td>102.5</td>\n",
       "      <td>60.7</td>\n",
       "      <td>True</td>\n",
       "    </tr>\n",
       "    <tr>\n",
       "      <th>1</th>\n",
       "      <td>Elon Musk</td>\n",
       "      <td>51.0</td>\n",
       "      <td>United States</td>\n",
       "      <td>Automotive</td>\n",
       "      <td>True</td>\n",
       "      <td>M</td>\n",
       "      <td>$21,427,700,000,000</td>\n",
       "      <td>88.2</td>\n",
       "      <td>101.8</td>\n",
       "      <td>36.6</td>\n",
       "      <td>True</td>\n",
       "    </tr>\n",
       "    <tr>\n",
       "      <th>2</th>\n",
       "      <td>Jeff Bezos</td>\n",
       "      <td>59.0</td>\n",
       "      <td>United States</td>\n",
       "      <td>Technology</td>\n",
       "      <td>True</td>\n",
       "      <td>M</td>\n",
       "      <td>$21,427,700,000,000</td>\n",
       "      <td>88.2</td>\n",
       "      <td>101.8</td>\n",
       "      <td>36.6</td>\n",
       "      <td>True</td>\n",
       "    </tr>\n",
       "    <tr>\n",
       "      <th>3</th>\n",
       "      <td>Larry Ellison</td>\n",
       "      <td>78.0</td>\n",
       "      <td>United States</td>\n",
       "      <td>Technology</td>\n",
       "      <td>True</td>\n",
       "      <td>M</td>\n",
       "      <td>$21,427,700,000,000</td>\n",
       "      <td>88.2</td>\n",
       "      <td>101.8</td>\n",
       "      <td>36.6</td>\n",
       "      <td>True</td>\n",
       "    </tr>\n",
       "    <tr>\n",
       "      <th>4</th>\n",
       "      <td>Warren Buffett</td>\n",
       "      <td>92.0</td>\n",
       "      <td>United States</td>\n",
       "      <td>Finance &amp; Investments</td>\n",
       "      <td>True</td>\n",
       "      <td>M</td>\n",
       "      <td>$21,427,700,000,000</td>\n",
       "      <td>88.2</td>\n",
       "      <td>101.8</td>\n",
       "      <td>36.6</td>\n",
       "      <td>True</td>\n",
       "    </tr>\n",
       "    <tr>\n",
       "      <th>...</th>\n",
       "      <td>...</td>\n",
       "      <td>...</td>\n",
       "      <td>...</td>\n",
       "      <td>...</td>\n",
       "      <td>...</td>\n",
       "      <td>...</td>\n",
       "      <td>...</td>\n",
       "      <td>...</td>\n",
       "      <td>...</td>\n",
       "      <td>...</td>\n",
       "      <td>...</td>\n",
       "    </tr>\n",
       "    <tr>\n",
       "      <th>2635</th>\n",
       "      <td>Yu Rong</td>\n",
       "      <td>51.0</td>\n",
       "      <td>China</td>\n",
       "      <td>Healthcare</td>\n",
       "      <td>True</td>\n",
       "      <td>M</td>\n",
       "      <td>$19,910,000,000,000</td>\n",
       "      <td>50.6</td>\n",
       "      <td>100.2</td>\n",
       "      <td>59.2</td>\n",
       "      <td>False</td>\n",
       "    </tr>\n",
       "    <tr>\n",
       "      <th>2636</th>\n",
       "      <td>Richard Yuengling, Jr.</td>\n",
       "      <td>80.0</td>\n",
       "      <td>United States</td>\n",
       "      <td>Food &amp; Beverage</td>\n",
       "      <td>False</td>\n",
       "      <td>M</td>\n",
       "      <td>$21,427,700,000,000</td>\n",
       "      <td>88.2</td>\n",
       "      <td>101.8</td>\n",
       "      <td>36.6</td>\n",
       "      <td>True</td>\n",
       "    </tr>\n",
       "    <tr>\n",
       "      <th>2637</th>\n",
       "      <td>Zhang Gongyun</td>\n",
       "      <td>60.0</td>\n",
       "      <td>China</td>\n",
       "      <td>Manufacturing</td>\n",
       "      <td>True</td>\n",
       "      <td>M</td>\n",
       "      <td>$19,910,000,000,000</td>\n",
       "      <td>50.6</td>\n",
       "      <td>100.2</td>\n",
       "      <td>59.2</td>\n",
       "      <td>False</td>\n",
       "    </tr>\n",
       "    <tr>\n",
       "      <th>2638</th>\n",
       "      <td>Zhang Guiping &amp; family</td>\n",
       "      <td>71.0</td>\n",
       "      <td>China</td>\n",
       "      <td>Real Estate</td>\n",
       "      <td>True</td>\n",
       "      <td>M</td>\n",
       "      <td>$19,910,000,000,000</td>\n",
       "      <td>50.6</td>\n",
       "      <td>100.2</td>\n",
       "      <td>59.2</td>\n",
       "      <td>False</td>\n",
       "    </tr>\n",
       "    <tr>\n",
       "      <th>2639</th>\n",
       "      <td>Inigo Zobel</td>\n",
       "      <td>66.0</td>\n",
       "      <td>Philippines</td>\n",
       "      <td>Diversified</td>\n",
       "      <td>False</td>\n",
       "      <td>M</td>\n",
       "      <td>$376,795,508,680</td>\n",
       "      <td>35.5</td>\n",
       "      <td>107.5</td>\n",
       "      <td>43.1</td>\n",
       "      <td>False</td>\n",
       "    </tr>\n",
       "  </tbody>\n",
       "</table>\n",
       "<p>2549 rows × 11 columns</p>\n",
       "</div>"
      ],
      "text/plain": [
       "                    personName   age        country             industries  \\\n",
       "0     Bernard Arnault & family  74.0         France       Fashion & Retail   \n",
       "1                    Elon Musk  51.0  United States             Automotive   \n",
       "2                   Jeff Bezos  59.0  United States             Technology   \n",
       "3                Larry Ellison  78.0  United States             Technology   \n",
       "4               Warren Buffett  92.0  United States  Finance & Investments   \n",
       "...                        ...   ...            ...                    ...   \n",
       "2635                   Yu Rong  51.0          China             Healthcare   \n",
       "2636    Richard Yuengling, Jr.  80.0  United States        Food & Beverage   \n",
       "2637             Zhang Gongyun  60.0          China          Manufacturing   \n",
       "2638    Zhang Guiping & family  71.0          China            Real Estate   \n",
       "2639               Inigo Zobel  66.0    Philippines            Diversified   \n",
       "\n",
       "      selfMade gender           gdp_country  \\\n",
       "0        False      M   $2,715,518,274,227    \n",
       "1         True      M  $21,427,700,000,000    \n",
       "2         True      M  $21,427,700,000,000    \n",
       "3         True      M  $21,427,700,000,000    \n",
       "4         True      M  $21,427,700,000,000    \n",
       "...        ...    ...                   ...   \n",
       "2635      True      M  $19,910,000,000,000    \n",
       "2636     False      M  $21,427,700,000,000    \n",
       "2637      True      M  $19,910,000,000,000    \n",
       "2638      True      M  $19,910,000,000,000    \n",
       "2639     False      M     $376,795,508,680    \n",
       "\n",
       "      gross_tertiary_education_enrollment  \\\n",
       "0                                    65.6   \n",
       "1                                    88.2   \n",
       "2                                    88.2   \n",
       "3                                    88.2   \n",
       "4                                    88.2   \n",
       "...                                   ...   \n",
       "2635                                 50.6   \n",
       "2636                                 88.2   \n",
       "2637                                 50.6   \n",
       "2638                                 50.6   \n",
       "2639                                 35.5   \n",
       "\n",
       "      gross_primary_education_enrollment_country  total_tax_rate_country  \\\n",
       "0                                          102.5                    60.7   \n",
       "1                                          101.8                    36.6   \n",
       "2                                          101.8                    36.6   \n",
       "3                                          101.8                    36.6   \n",
       "4                                          101.8                    36.6   \n",
       "...                                          ...                     ...   \n",
       "2635                                       100.2                    59.2   \n",
       "2636                                       101.8                    36.6   \n",
       "2637                                       100.2                    59.2   \n",
       "2638                                       100.2                    59.2   \n",
       "2639                                       107.5                    43.1   \n",
       "\n",
       "      high_income  \n",
       "0            True  \n",
       "1            True  \n",
       "2            True  \n",
       "3            True  \n",
       "4            True  \n",
       "...           ...  \n",
       "2635        False  \n",
       "2636         True  \n",
       "2637        False  \n",
       "2638        False  \n",
       "2639        False  \n",
       "\n",
       "[2549 rows x 11 columns]"
      ]
     },
     "execution_count": 108,
     "metadata": {},
     "output_type": "execute_result"
    }
   ],
   "source": [
    "billionaires_dropped"
   ]
  },
  {
   "cell_type": "markdown",
   "metadata": {},
   "source": [
    "# Results\n",
    "\n",
    "## Exploratory Data Analysis\n",
    "\n",
    "Carry out whatever EDA you need to for your project.  Because every project will be different we can't really give you much of a template at this point. But please make sure you describe the what and why in text here as well as providing interpretation of results and context."
   ]
  },
  {
   "cell_type": "markdown",
   "metadata": {},
   "source": [
    "### Countries the Billionaires are from\n",
    "\n",
    "In this section, we explore the country that the billionaries are from"
   ]
  },
  {
   "cell_type": "code",
   "execution_count": 98,
   "metadata": {},
   "outputs": [
    {
     "data": {
      "text/html": [
       "        <script type=\"text/javascript\">\n",
       "        window.PlotlyConfig = {MathJaxConfig: 'local'};\n",
       "        if (window.MathJax && window.MathJax.Hub && window.MathJax.Hub.Config) {window.MathJax.Hub.Config({SVG: {font: \"STIX-Web\"}});}\n",
       "        if (typeof require !== 'undefined') {\n",
       "        require.undef(\"plotly\");\n",
       "        requirejs.config({\n",
       "            paths: {\n",
       "                'plotly': ['https://cdn.plot.ly/plotly-2.27.0.min']\n",
       "            }\n",
       "        });\n",
       "        require(['plotly'], function(Plotly) {\n",
       "            window._Plotly = Plotly;\n",
       "        });\n",
       "        }\n",
       "        </script>\n",
       "        "
      ]
     },
     "metadata": {},
     "output_type": "display_data"
    }
   ],
   "source": [
    "import matplotlib.pyplot as plt \n",
    "import plotly.graph_objects as go\n",
    "import seaborn as sns\n",
    "from plotly.offline import init_notebook_mode\n",
    "init_notebook_mode(connected=True)"
   ]
  },
  {
   "cell_type": "markdown",
   "metadata": {},
   "source": [
    "In our dataset, there are 2640 billionaries in total from 78 different countries and 741 different countries. "
   ]
  },
  {
   "cell_type": "code",
   "execution_count": 157,
   "metadata": {},
   "outputs": [
    {
     "name": "stdout",
     "output_type": "stream",
     "text": [
      "Total Number of Billionairies: 2640\n",
      "-------------------------------------------\n",
      "country\n",
      "United States           754\n",
      "China                   523\n",
      "India                   157\n",
      "Germany                 102\n",
      "United Kingdom           82\n",
      "                       ... \n",
      "Portugal                  1\n",
      "Georgia                   1\n",
      "Eswatini (Swaziland)      1\n",
      "Uzbekistan                1\n",
      "Armenia                   1\n",
      "Name: count, Length: 78, dtype: int64\n",
      "-------------------------------------------\n",
      "city\n",
      "New York       99\n",
      "Beijing        68\n",
      "Hong Kong      68\n",
      "Shanghai       64\n",
      "London         61\n",
      "               ..\n",
      "Küsnacht        1\n",
      "Brownsville     1\n",
      "Montpellier     1\n",
      "Santa Clara     1\n",
      "Makati          1\n",
      "Name: count, Length: 741, dtype: int64\n"
     ]
    }
   ],
   "source": [
    "print(\"Total Number of Billionairies:\", len(billionaires))\n",
    "print('-------------------------------------------')\n",
    "print(billionaires['country'].value_counts())\n",
    "print('-------------------------------------------')\n",
    "print(billionaires['city'].value_counts())"
   ]
  },
  {
   "cell_type": "markdown",
   "metadata": {},
   "source": [
    "However, as shown below, most billionaries are from few specific countries. In particular, 754 of them are from the United States, and 523 of them are from China."
   ]
  },
  {
   "cell_type": "code",
   "execution_count": 270,
   "metadata": {},
   "outputs": [
    {
     "data": {
      "image/png": "[encoded data removed]",
      "text/plain": [
       "<Figure size 2000x800 with 1 Axes>"
      ]
     },
     "metadata": {},
     "output_type": "display_data"
    }
   ],
   "source": [
    "plt.figure(figsize=(20,8))\n",
    "plt.bar(*zip(*(dict(billionaires['country'].value_counts()).items())))\n",
    "plt.xticks(rotation=90)\n",
    "plt.xlabel('Country')\n",
    "plt.ylabel('Number of Billionaires')\n",
    "plt.show()"
   ]
  },
  {
   "cell_type": "markdown",
   "metadata": {},
   "source": [
    "In fact, 20 of these 78 countries only have 1 billionary."
   ]
  },
  {
   "cell_type": "code",
   "execution_count": 114,
   "metadata": {
    "scrolled": true
   },
   "outputs": [
    {
     "data": {
      "text/plain": [
       "20"
      ]
     },
     "execution_count": 114,
     "metadata": {},
     "output_type": "execute_result"
    }
   ],
   "source": [
    "sum(billionaires['country'].value_counts() == 1)"
   ]
  },
  {
   "cell_type": "markdown",
   "metadata": {},
   "source": [
    "Moreover, as shown in the choropleth below, in addition to the United States and China having the most billionaries, there are only few billionaires who are from Africa."
   ]
  },
  {
   "cell_type": "code",
   "execution_count": 271,
   "metadata": {},
   "outputs": [
    {
     "data": {
      "application/vnd.plotly.v1+json": {
       "config": {
        "plotlyServerURL": "https://plot.ly"
       },
       "data": [
        {
         "autocolorscale": false,
         "colorbar": {
          "title": {
           "text": "Number of Billionaires"
          }
         },
         "colorscale": [
          [
           0,
           "rgb(247,252,245)"
          ],
          [
           0.125,
           "rgb(229,245,224)"
          ],
          [
           0.25,
           "rgb(199,233,192)"
          ],
          [
           0.375,
           "rgb(161,217,155)"
          ],
          [
           0.5,
           "rgb(116,196,118)"
          ],
          [
           0.625,
           "rgb(65,171,93)"
          ],
          [
           0.75,
           "rgb(35,139,69)"
          ],
          [
           0.875,
           "rgb(0,109,44)"
          ],
          [
           1,
           "rgb(0,68,27)"
          ]
         ],
         "hovertemplate": "<b>%{text}</b><br>Number of Billionaires: %{z}<extra></extra>",
         "locationmode": "country names",
         "locations": [
          "United States",
          "China",
          "India",
          "Germany",
          "United Kingdom",
          "Russia",
          "Switzerland",
          "Hong Kong",
          "Italy",
          "Singapore",
          "Brazil",
          "Australia",
          "Taiwan",
          "Canada",
          "Japan",
          "France",
          "South Korea",
          "Thailand",
          "Sweden",
          "Israel",
          "Turkey",
          "Spain",
          "Indonesia",
          "United Arab Emirates",
          "Monaco",
          "Philippines",
          "Mexico",
          "Austria",
          "Malaysia",
          "Netherlands",
          "Norway",
          "Denmark",
          "Kazakhstan",
          "Finland",
          "Czech Republic",
          "Vietnam",
          "Ukraine",
          "Chile",
          "Poland",
          "Cyprus",
          "South Africa",
          "Egypt",
          "Ireland",
          "Argentina",
          "Hungary",
          "Romania",
          "Greece",
          "Nigeria",
          "Belgium",
          "Cayman Islands",
          "Qatar",
          "Lebanon",
          "Slovakia",
          "Bermuda",
          "Morocco",
          "Peru",
          "Bahamas",
          "New Zealand",
          "Turks and Caicos Islands",
          "Nepal",
          "Uruguay",
          "Tanzania",
          "Andorra",
          "Bahrain",
          "Colombia",
          "Liechtenstein",
          "Guernsey",
          "Oman",
          "Cambodia",
          "British Virgin Islands",
          "Luxembourg",
          "Latvia",
          "Algeria",
          "Portugal",
          "Georgia",
          "Eswatini (Swaziland)",
          "Uzbekistan",
          "Armenia"
         ],
         "text": [
          "United States",
          "China",
          "India",
          "Germany",
          "United Kingdom",
          "Russia",
          "Switzerland",
          "Hong Kong",
          "Italy",
          "Singapore",
          "Brazil",
          "Australia",
          "Taiwan",
          "Canada",
          "Japan",
          "France",
          "South Korea",
          "Israel",
          "Sweden",
          "Turkey",
          "Thailand",
          "Indonesia",
          "Spain",
          "Monaco",
          "United Arab Emirates",
          "Philippines",
          "Mexico",
          "Austria",
          "Malaysia",
          "Netherlands",
          "Norway",
          "Denmark",
          "Czech Republic",
          "Finland",
          "Kazakhstan",
          "Vietnam",
          "Chile",
          "Ukraine",
          "Cyprus",
          "South Africa",
          "Poland",
          "Egypt",
          "Ireland",
          "Argentina",
          "Hungary",
          "Romania",
          "Greece",
          "Belgium",
          "Cayman Islands",
          "Nigeria",
          "Bermuda",
          "Qatar",
          "Lebanon",
          "Slovakia",
          "Morocco",
          "Peru",
          "Bahamas",
          "New Zealand",
          "Turks and Caicos Islands",
          "Bahrain",
          "Nepal",
          "Uruguay",
          "Andorra",
          "Tanzania",
          "Colombia",
          "Liechtenstein",
          "Guernsey",
          "Oman",
          "Cambodia",
          "British Virgin Islands",
          "Luxembourg",
          "Latvia",
          "Algeria",
          "Portugal",
          "Georgia",
          "Eswatini (Swaziland)",
          "Uzbekistan",
          "Armenia"
         ],
         "type": "choropleth",
         "z": [
          754,
          523,
          157,
          102,
          82,
          79,
          78,
          68,
          55,
          46,
          44,
          43,
          43,
          42,
          38,
          35,
          29,
          28,
          26,
          26,
          25,
          25,
          25,
          17,
          17,
          14,
          13,
          11,
          11,
          10,
          9,
          7,
          7,
          7,
          7,
          6,
          6,
          6,
          5,
          5,
          5,
          4,
          4,
          4,
          3,
          3,
          3,
          3,
          3,
          3,
          2,
          2,
          2,
          2,
          2,
          2,
          2,
          2,
          1,
          1,
          1,
          1,
          1,
          1,
          1,
          1,
          1,
          1,
          1,
          1,
          1,
          1,
          1,
          1,
          1,
          1,
          1,
          1
         ]
        }
       ],
       "layout": {
        "geo": {
         "lakecolor": "rgb(255, 255, 255)",
         "scope": "world",
         "showlakes": true
        },
        "height": 600,
        "template": {
         "data": {
          "bar": [
           {
            "error_x": {
             "color": "#2a3f5f"
            },
            "error_y": {
             "color": "#2a3f5f"
            },
            "marker": {
             "line": {
              "color": "#E5ECF6",
              "width": 0.5
             },
             "pattern": {
              "fillmode": "overlay",
              "size": 10,
              "solidity": 0.2
             }
            },
            "type": "bar"
           }
          ],
          "barpolar": [
           {
            "marker": {
             "line": {
              "color": "#E5ECF6",
              "width": 0.5
             },
             "pattern": {
              "fillmode": "overlay",
              "size": 10,
              "solidity": 0.2
             }
            },
            "type": "barpolar"
           }
          ],
          "carpet": [
           {
            "aaxis": {
             "endlinecolor": "#2a3f5f",
             "gridcolor": "white",
             "linecolor": "white",
             "minorgridcolor": "white",
             "startlinecolor": "#2a3f5f"
            },
            "baxis": {
             "endlinecolor": "#2a3f5f",
             "gridcolor": "white",
             "linecolor": "white",
             "minorgridcolor": "white",
             "startlinecolor": "#2a3f5f"
            },
            "type": "carpet"
           }
          ],
          "choropleth": [
           {
            "colorbar": {
             "outlinewidth": 0,
             "ticks": ""
            },
            "type": "choropleth"
           }
          ],
          "contour": [
           {
            "colorbar": {
             "outlinewidth": 0,
             "ticks": ""
            },
            "colorscale": [
             [
              0,
              "#0d0887"
             ],
             [
              0.1111111111111111,
              "#46039f"
             ],
             [
              0.2222222222222222,
              "#7201a8"
             ],
             [
              0.3333333333333333,
              "#9c179e"
             ],
             [
              0.4444444444444444,
              "#bd3786"
             ],
             [
              0.5555555555555556,
              "#d8576b"
             ],
             [
              0.6666666666666666,
              "#ed7953"
             ],
             [
              0.7777777777777778,
              "#fb9f3a"
             ],
             [
              0.8888888888888888,
              "#fdca26"
             ],
             [
              1,
              "#f0f921"
             ]
            ],
            "type": "contour"
           }
          ],
          "contourcarpet": [
           {
            "colorbar": {
             "outlinewidth": 0,
             "ticks": ""
            },
            "type": "contourcarpet"
           }
          ],
          "heatmap": [
           {
            "colorbar": {
             "outlinewidth": 0,
             "ticks": ""
            },
            "colorscale": [
             [
              0,
              "#0d0887"
             ],
             [
              0.1111111111111111,
              "#46039f"
             ],
             [
              0.2222222222222222,
              "#7201a8"
             ],
             [
              0.3333333333333333,
              "#9c179e"
             ],
             [
              0.4444444444444444,
              "#bd3786"
             ],
             [
              0.5555555555555556,
              "#d8576b"
             ],
             [
              0.6666666666666666,
              "#ed7953"
             ],
             [
              0.7777777777777778,
              "#fb9f3a"
             ],
             [
              0.8888888888888888,
              "#fdca26"
             ],
             [
              1,
              "#f0f921"
             ]
            ],
            "type": "heatmap"
           }
          ],
          "heatmapgl": [
           {
            "colorbar": {
             "outlinewidth": 0,
             "ticks": ""
            },
            "colorscale": [
             [
              0,
              "#0d0887"
             ],
             [
              0.1111111111111111,
              "#46039f"
             ],
             [
              0.2222222222222222,
              "#7201a8"
             ],
             [
              0.3333333333333333,
              "#9c179e"
             ],
             [
              0.4444444444444444,
              "#bd3786"
             ],
             [
              0.5555555555555556,
              "#d8576b"
             ],
             [
              0.6666666666666666,
              "#ed7953"
             ],
             [
              0.7777777777777778,
              "#fb9f3a"
             ],
             [
              0.8888888888888888,
              "#fdca26"
             ],
             [
              1,
              "#f0f921"
             ]
            ],
            "type": "heatmapgl"
           }
          ],
          "histogram": [
           {
            "marker": {
             "pattern": {
              "fillmode": "overlay",
              "size": 10,
              "solidity": 0.2
             }
            },
            "type": "histogram"
           }
          ],
          "histogram2d": [
           {
            "colorbar": {
             "outlinewidth": 0,
             "ticks": ""
            },
            "colorscale": [
             [
              0,
              "#0d0887"
             ],
             [
              0.1111111111111111,
              "#46039f"
             ],
             [
              0.2222222222222222,
              "#7201a8"
             ],
             [
              0.3333333333333333,
              "#9c179e"
             ],
             [
              0.4444444444444444,
              "#bd3786"
             ],
             [
              0.5555555555555556,
              "#d8576b"
             ],
             [
              0.6666666666666666,
              "#ed7953"
             ],
             [
              0.7777777777777778,
              "#fb9f3a"
             ],
             [
              0.8888888888888888,
              "#fdca26"
             ],
             [
              1,
              "#f0f921"
             ]
            ],
            "type": "histogram2d"
           }
          ],
          "histogram2dcontour": [
           {
            "colorbar": {
             "outlinewidth": 0,
             "ticks": ""
            },
            "colorscale": [
             [
              0,
              "#0d0887"
             ],
             [
              0.1111111111111111,
              "#46039f"
             ],
             [
              0.2222222222222222,
              "#7201a8"
             ],
             [
              0.3333333333333333,
              "#9c179e"
             ],
             [
              0.4444444444444444,
              "#bd3786"
             ],
             [
              0.5555555555555556,
              "#d8576b"
             ],
             [
              0.6666666666666666,
              "#ed7953"
             ],
             [
              0.7777777777777778,
              "#fb9f3a"
             ],
             [
              0.8888888888888888,
              "#fdca26"
             ],
             [
              1,
              "#f0f921"
             ]
            ],
            "type": "histogram2dcontour"
           }
          ],
          "mesh3d": [
           {
            "colorbar": {
             "outlinewidth": 0,
             "ticks": ""
            },
            "type": "mesh3d"
           }
          ],
          "parcoords": [
           {
            "line": {
             "colorbar": {
              "outlinewidth": 0,
              "ticks": ""
             }
            },
            "type": "parcoords"
           }
          ],
          "pie": [
           {
            "automargin": true,
            "type": "pie"
           }
          ],
          "scatter": [
           {
            "fillpattern": {
             "fillmode": "overlay",
             "size": 10,
             "solidity": 0.2
            },
            "type": "scatter"
           }
          ],
          "scatter3d": [
           {
            "line": {
             "colorbar": {
              "outlinewidth": 0,
              "ticks": ""
             }
            },
            "marker": {
             "colorbar": {
              "outlinewidth": 0,
              "ticks": ""
             }
            },
            "type": "scatter3d"
           }
          ],
          "scattercarpet": [
           {
            "marker": {
             "colorbar": {
              "outlinewidth": 0,
              "ticks": ""
             }
            },
            "type": "scattercarpet"
           }
          ],
          "scattergeo": [
           {
            "marker": {
             "colorbar": {
              "outlinewidth": 0,
              "ticks": ""
             }
            },
            "type": "scattergeo"
           }
          ],
          "scattergl": [
           {
            "marker": {
             "colorbar": {
              "outlinewidth": 0,
              "ticks": ""
             }
            },
            "type": "scattergl"
           }
          ],
          "scattermapbox": [
           {
            "marker": {
             "colorbar": {
              "outlinewidth": 0,
              "ticks": ""
             }
            },
            "type": "scattermapbox"
           }
          ],
          "scatterpolar": [
           {
            "marker": {
             "colorbar": {
              "outlinewidth": 0,
              "ticks": ""
             }
            },
            "type": "scatterpolar"
           }
          ],
          "scatterpolargl": [
           {
            "marker": {
             "colorbar": {
              "outlinewidth": 0,
              "ticks": ""
             }
            },
            "type": "scatterpolargl"
           }
          ],
          "scatterternary": [
           {
            "marker": {
             "colorbar": {
              "outlinewidth": 0,
              "ticks": ""
             }
            },
            "type": "scatterternary"
           }
          ],
          "surface": [
           {
            "colorbar": {
             "outlinewidth": 0,
             "ticks": ""
            },
            "colorscale": [
             [
              0,
              "#0d0887"
             ],
             [
              0.1111111111111111,
              "#46039f"
             ],
             [
              0.2222222222222222,
              "#7201a8"
             ],
             [
              0.3333333333333333,
              "#9c179e"
             ],
             [
              0.4444444444444444,
              "#bd3786"
             ],
             [
              0.5555555555555556,
              "#d8576b"
             ],
             [
              0.6666666666666666,
              "#ed7953"
             ],
             [
              0.7777777777777778,
              "#fb9f3a"
             ],
             [
              0.8888888888888888,
              "#fdca26"
             ],
             [
              1,
              "#f0f921"
             ]
            ],
            "type": "surface"
           }
          ],
          "table": [
           {
            "cells": {
             "fill": {
              "color": "#EBF0F8"
             },
             "line": {
              "color": "white"
             }
            },
            "header": {
             "fill": {
              "color": "#C8D4E3"
             },
             "line": {
              "color": "white"
             }
            },
            "type": "table"
           }
          ]
         },
         "layout": {
          "annotationdefaults": {
           "arrowcolor": "#2a3f5f",
           "arrowhead": 0,
           "arrowwidth": 1
          },
          "autotypenumbers": "strict",
          "coloraxis": {
           "colorbar": {
            "outlinewidth": 0,
            "ticks": ""
           }
          },
          "colorscale": {
           "diverging": [
            [
             0,
             "#8e0152"
            ],
            [
             0.1,
             "#c51b7d"
            ],
            [
             0.2,
             "#de77ae"
            ],
            [
             0.3,
             "#f1b6da"
            ],
            [
             0.4,
             "#fde0ef"
            ],
            [
             0.5,
             "#f7f7f7"
            ],
            [
             0.6,
             "#e6f5d0"
            ],
            [
             0.7,
             "#b8e186"
            ],
            [
             0.8,
             "#7fbc41"
            ],
            [
             0.9,
             "#4d9221"
            ],
            [
             1,
             "#276419"
            ]
           ],
           "sequential": [
            [
             0,
             "#0d0887"
            ],
            [
             0.1111111111111111,
             "#46039f"
            ],
            [
             0.2222222222222222,
             "#7201a8"
            ],
            [
             0.3333333333333333,
             "#9c179e"
            ],
            [
             0.4444444444444444,
             "#bd3786"
            ],
            [
             0.5555555555555556,
             "#d8576b"
            ],
            [
             0.6666666666666666,
             "#ed7953"
            ],
            [
             0.7777777777777778,
             "#fb9f3a"
            ],
            [
             0.8888888888888888,
             "#fdca26"
            ],
            [
             1,
             "#f0f921"
            ]
           ],
           "sequentialminus": [
            [
             0,
             "#0d0887"
            ],
            [
             0.1111111111111111,
             "#46039f"
            ],
            [
             0.2222222222222222,
             "#7201a8"
            ],
            [
             0.3333333333333333,
             "#9c179e"
            ],
            [
             0.4444444444444444,
             "#bd3786"
            ],
            [
             0.5555555555555556,
             "#d8576b"
            ],
            [
             0.6666666666666666,
             "#ed7953"
            ],
            [
             0.7777777777777778,
             "#fb9f3a"
            ],
            [
             0.8888888888888888,
             "#fdca26"
            ],
            [
             1,
             "#f0f921"
            ]
           ]
          },
          "colorway": [
           "#636efa",
           "#EF553B",
           "#00cc96",
           "#ab63fa",
           "#FFA15A",
           "#19d3f3",
           "#FF6692",
           "#B6E880",
           "#FF97FF",
           "#FECB52"
          ],
          "font": {
           "color": "#2a3f5f"
          },
          "geo": {
           "bgcolor": "white",
           "lakecolor": "white",
           "landcolor": "#E5ECF6",
           "showlakes": true,
           "showland": true,
           "subunitcolor": "white"
          },
          "hoverlabel": {
           "align": "left"
          },
          "hovermode": "closest",
          "mapbox": {
           "style": "light"
          },
          "paper_bgcolor": "white",
          "plot_bgcolor": "#E5ECF6",
          "polar": {
           "angularaxis": {
            "gridcolor": "white",
            "linecolor": "white",
            "ticks": ""
           },
           "bgcolor": "#E5ECF6",
           "radialaxis": {
            "gridcolor": "white",
            "linecolor": "white",
            "ticks": ""
           }
          },
          "scene": {
           "xaxis": {
            "backgroundcolor": "#E5ECF6",
            "gridcolor": "white",
            "gridwidth": 2,
            "linecolor": "white",
            "showbackground": true,
            "ticks": "",
            "zerolinecolor": "white"
           },
           "yaxis": {
            "backgroundcolor": "#E5ECF6",
            "gridcolor": "white",
            "gridwidth": 2,
            "linecolor": "white",
            "showbackground": true,
            "ticks": "",
            "zerolinecolor": "white"
           },
           "zaxis": {
            "backgroundcolor": "#E5ECF6",
            "gridcolor": "white",
            "gridwidth": 2,
            "linecolor": "white",
            "showbackground": true,
            "ticks": "",
            "zerolinecolor": "white"
           }
          },
          "shapedefaults": {
           "line": {
            "color": "#2a3f5f"
           }
          },
          "ternary": {
           "aaxis": {
            "gridcolor": "white",
            "linecolor": "white",
            "ticks": ""
           },
           "baxis": {
            "gridcolor": "white",
            "linecolor": "white",
            "ticks": ""
           },
           "bgcolor": "#E5ECF6",
           "caxis": {
            "gridcolor": "white",
            "linecolor": "white",
            "ticks": ""
           }
          },
          "title": {
           "x": 0.05
          },
          "xaxis": {
           "automargin": true,
           "gridcolor": "white",
           "linecolor": "white",
           "ticks": "",
           "title": {
            "standoff": 15
           },
           "zerolinecolor": "white",
           "zerolinewidth": 2
          },
          "yaxis": {
           "automargin": true,
           "gridcolor": "white",
           "linecolor": "white",
           "ticks": "",
           "title": {
            "standoff": 15
           },
           "zerolinecolor": "white",
           "zerolinewidth": 2
          }
         }
        },
        "title": {
         "text": "Billionaires in the World"
        },
        "width": 1000
       }
      },
      "text/html": [
       "<div>                            <div id=\"42b5ef38-3468-4d1c-954c-73ca92bdf963\" class=\"plotly-graph-div\" style=\"height:600px; width:1000px;\"></div>            <script type=\"text/javascript\">                require([\"plotly\"], function(Plotly) {                    window.PLOTLYENV=window.PLOTLYENV || {};                                    if (document.getElementById(\"42b5ef38-3468-4d1c-954c-73ca92bdf963\")) {                    Plotly.newPlot(                        \"42b5ef38-3468-4d1c-954c-73ca92bdf963\",                        [{\"autocolorscale\":false,\"colorbar\":{\"title\":{\"text\":\"Number of Billionaires\"}},\"colorscale\":[[0.0,\"rgb(247,252,245)\"],[0.125,\"rgb(229,245,224)\"],[0.25,\"rgb(199,233,192)\"],[0.375,\"rgb(161,217,155)\"],[0.5,\"rgb(116,196,118)\"],[0.625,\"rgb(65,171,93)\"],[0.75,\"rgb(35,139,69)\"],[0.875,\"rgb(0,109,44)\"],[1.0,\"rgb(0,68,27)\"]],\"locationmode\":\"country names\",\"locations\":[\"United States\",\"China\",\"India\",\"Germany\",\"United Kingdom\",\"Russia\",\"Switzerland\",\"Hong Kong\",\"Italy\",\"Singapore\",\"Brazil\",\"Australia\",\"Taiwan\",\"Canada\",\"Japan\",\"France\",\"South Korea\",\"Thailand\",\"Sweden\",\"Israel\",\"Turkey\",\"Spain\",\"Indonesia\",\"United Arab Emirates\",\"Monaco\",\"Philippines\",\"Mexico\",\"Austria\",\"Malaysia\",\"Netherlands\",\"Norway\",\"Denmark\",\"Kazakhstan\",\"Finland\",\"Czech Republic\",\"Vietnam\",\"Ukraine\",\"Chile\",\"Poland\",\"Cyprus\",\"South Africa\",\"Egypt\",\"Ireland\",\"Argentina\",\"Hungary\",\"Romania\",\"Greece\",\"Nigeria\",\"Belgium\",\"Cayman Islands\",\"Qatar\",\"Lebanon\",\"Slovakia\",\"Bermuda\",\"Morocco\",\"Peru\",\"Bahamas\",\"New Zealand\",\"Turks and Caicos Islands\",\"Nepal\",\"Uruguay\",\"Tanzania\",\"Andorra\",\"Bahrain\",\"Colombia\",\"Liechtenstein\",\"Guernsey\",\"Oman\",\"Cambodia\",\"British Virgin Islands\",\"Luxembourg\",\"Latvia\",\"Algeria\",\"Portugal\",\"Georgia\",\"Eswatini (Swaziland)\",\"Uzbekistan\",\"Armenia\"],\"text\":[\"United States\",\"China\",\"India\",\"Germany\",\"United Kingdom\",\"Russia\",\"Switzerland\",\"Hong Kong\",\"Italy\",\"Singapore\",\"Brazil\",\"Australia\",\"Taiwan\",\"Canada\",\"Japan\",\"France\",\"South Korea\",\"Israel\",\"Sweden\",\"Turkey\",\"Thailand\",\"Indonesia\",\"Spain\",\"Monaco\",\"United Arab Emirates\",\"Philippines\",\"Mexico\",\"Austria\",\"Malaysia\",\"Netherlands\",\"Norway\",\"Denmark\",\"Czech Republic\",\"Finland\",\"Kazakhstan\",\"Vietnam\",\"Chile\",\"Ukraine\",\"Cyprus\",\"South Africa\",\"Poland\",\"Egypt\",\"Ireland\",\"Argentina\",\"Hungary\",\"Romania\",\"Greece\",\"Belgium\",\"Cayman Islands\",\"Nigeria\",\"Bermuda\",\"Qatar\",\"Lebanon\",\"Slovakia\",\"Morocco\",\"Peru\",\"Bahamas\",\"New Zealand\",\"Turks and Caicos Islands\",\"Bahrain\",\"Nepal\",\"Uruguay\",\"Andorra\",\"Tanzania\",\"Colombia\",\"Liechtenstein\",\"Guernsey\",\"Oman\",\"Cambodia\",\"British Virgin Islands\",\"Luxembourg\",\"Latvia\",\"Algeria\",\"Portugal\",\"Georgia\",\"Eswatini (Swaziland)\",\"Uzbekistan\",\"Armenia\"],\"z\":[754,523,157,102,82,79,78,68,55,46,44,43,43,42,38,35,29,28,26,26,25,25,25,17,17,14,13,11,11,10,9,7,7,7,7,6,6,6,5,5,5,4,4,4,3,3,3,3,3,3,2,2,2,2,2,2,2,2,1,1,1,1,1,1,1,1,1,1,1,1,1,1,1,1,1,1,1,1],\"type\":\"choropleth\",\"hovertemplate\":\"\\u003cb\\u003e%{text}\\u003c\\u002fb\\u003e\\u003cbr\\u003eNumber of Billionaires: %{z}\\u003cextra\\u003e\\u003c\\u002fextra\\u003e\"}],                        {\"geo\":{\"lakecolor\":\"rgb(255, 255, 255)\",\"scope\":\"world\",\"showlakes\":true},\"height\":600,\"title\":{\"text\":\"Billionaires in the World\"},\"width\":1000,\"template\":{\"data\":{\"histogram2dcontour\":[{\"type\":\"histogram2dcontour\",\"colorbar\":{\"outlinewidth\":0,\"ticks\":\"\"},\"colorscale\":[[0.0,\"#0d0887\"],[0.1111111111111111,\"#46039f\"],[0.2222222222222222,\"#7201a8\"],[0.3333333333333333,\"#9c179e\"],[0.4444444444444444,\"#bd3786\"],[0.5555555555555556,\"#d8576b\"],[0.6666666666666666,\"#ed7953\"],[0.7777777777777778,\"#fb9f3a\"],[0.8888888888888888,\"#fdca26\"],[1.0,\"#f0f921\"]]}],\"choropleth\":[{\"type\":\"choropleth\",\"colorbar\":{\"outlinewidth\":0,\"ticks\":\"\"}}],\"histogram2d\":[{\"type\":\"histogram2d\",\"colorbar\":{\"outlinewidth\":0,\"ticks\":\"\"},\"colorscale\":[[0.0,\"#0d0887\"],[0.1111111111111111,\"#46039f\"],[0.2222222222222222,\"#7201a8\"],[0.3333333333333333,\"#9c179e\"],[0.4444444444444444,\"#bd3786\"],[0.5555555555555556,\"#d8576b\"],[0.6666666666666666,\"#ed7953\"],[0.7777777777777778,\"#fb9f3a\"],[0.8888888888888888,\"#fdca26\"],[1.0,\"#f0f921\"]]}],\"heatmap\":[{\"type\":\"heatmap\",\"colorbar\":{\"outlinewidth\":0,\"ticks\":\"\"},\"colorscale\":[[0.0,\"#0d0887\"],[0.1111111111111111,\"#46039f\"],[0.2222222222222222,\"#7201a8\"],[0.3333333333333333,\"#9c179e\"],[0.4444444444444444,\"#bd3786\"],[0.5555555555555556,\"#d8576b\"],[0.6666666666666666,\"#ed7953\"],[0.7777777777777778,\"#fb9f3a\"],[0.8888888888888888,\"#fdca26\"],[1.0,\"#f0f921\"]]}],\"heatmapgl\":[{\"type\":\"heatmapgl\",\"colorbar\":{\"outlinewidth\":0,\"ticks\":\"\"},\"colorscale\":[[0.0,\"#0d0887\"],[0.1111111111111111,\"#46039f\"],[0.2222222222222222,\"#7201a8\"],[0.3333333333333333,\"#9c179e\"],[0.4444444444444444,\"#bd3786\"],[0.5555555555555556,\"#d8576b\"],[0.6666666666666666,\"#ed7953\"],[0.7777777777777778,\"#fb9f3a\"],[0.8888888888888888,\"#fdca26\"],[1.0,\"#f0f921\"]]}],\"contourcarpet\":[{\"type\":\"contourcarpet\",\"colorbar\":{\"outlinewidth\":0,\"ticks\":\"\"}}],\"contour\":[{\"type\":\"contour\",\"colorbar\":{\"outlinewidth\":0,\"ticks\":\"\"},\"colorscale\":[[0.0,\"#0d0887\"],[0.1111111111111111,\"#46039f\"],[0.2222222222222222,\"#7201a8\"],[0.3333333333333333,\"#9c179e\"],[0.4444444444444444,\"#bd3786\"],[0.5555555555555556,\"#d8576b\"],[0.6666666666666666,\"#ed7953\"],[0.7777777777777778,\"#fb9f3a\"],[0.8888888888888888,\"#fdca26\"],[1.0,\"#f0f921\"]]}],\"surface\":[{\"type\":\"surface\",\"colorbar\":{\"outlinewidth\":0,\"ticks\":\"\"},\"colorscale\":[[0.0,\"#0d0887\"],[0.1111111111111111,\"#46039f\"],[0.2222222222222222,\"#7201a8\"],[0.3333333333333333,\"#9c179e\"],[0.4444444444444444,\"#bd3786\"],[0.5555555555555556,\"#d8576b\"],[0.6666666666666666,\"#ed7953\"],[0.7777777777777778,\"#fb9f3a\"],[0.8888888888888888,\"#fdca26\"],[1.0,\"#f0f921\"]]}],\"mesh3d\":[{\"type\":\"mesh3d\",\"colorbar\":{\"outlinewidth\":0,\"ticks\":\"\"}}],\"scatter\":[{\"fillpattern\":{\"fillmode\":\"overlay\",\"size\":10,\"solidity\":0.2},\"type\":\"scatter\"}],\"parcoords\":[{\"type\":\"parcoords\",\"line\":{\"colorbar\":{\"outlinewidth\":0,\"ticks\":\"\"}}}],\"scatterpolargl\":[{\"type\":\"scatterpolargl\",\"marker\":{\"colorbar\":{\"outlinewidth\":0,\"ticks\":\"\"}}}],\"bar\":[{\"error_x\":{\"color\":\"#2a3f5f\"},\"error_y\":{\"color\":\"#2a3f5f\"},\"marker\":{\"line\":{\"color\":\"#E5ECF6\",\"width\":0.5},\"pattern\":{\"fillmode\":\"overlay\",\"size\":10,\"solidity\":0.2}},\"type\":\"bar\"}],\"scattergeo\":[{\"type\":\"scattergeo\",\"marker\":{\"colorbar\":{\"outlinewidth\":0,\"ticks\":\"\"}}}],\"scatterpolar\":[{\"type\":\"scatterpolar\",\"marker\":{\"colorbar\":{\"outlinewidth\":0,\"ticks\":\"\"}}}],\"histogram\":[{\"marker\":{\"pattern\":{\"fillmode\":\"overlay\",\"size\":10,\"solidity\":0.2}},\"type\":\"histogram\"}],\"scattergl\":[{\"type\":\"scattergl\",\"marker\":{\"colorbar\":{\"outlinewidth\":0,\"ticks\":\"\"}}}],\"scatter3d\":[{\"type\":\"scatter3d\",\"line\":{\"colorbar\":{\"outlinewidth\":0,\"ticks\":\"\"}},\"marker\":{\"colorbar\":{\"outlinewidth\":0,\"ticks\":\"\"}}}],\"scattermapbox\":[{\"type\":\"scattermapbox\",\"marker\":{\"colorbar\":{\"outlinewidth\":0,\"ticks\":\"\"}}}],\"scatterternary\":[{\"type\":\"scatterternary\",\"marker\":{\"colorbar\":{\"outlinewidth\":0,\"ticks\":\"\"}}}],\"scattercarpet\":[{\"type\":\"scattercarpet\",\"marker\":{\"colorbar\":{\"outlinewidth\":0,\"ticks\":\"\"}}}],\"carpet\":[{\"aaxis\":{\"endlinecolor\":\"#2a3f5f\",\"gridcolor\":\"white\",\"linecolor\":\"white\",\"minorgridcolor\":\"white\",\"startlinecolor\":\"#2a3f5f\"},\"baxis\":{\"endlinecolor\":\"#2a3f5f\",\"gridcolor\":\"white\",\"linecolor\":\"white\",\"minorgridcolor\":\"white\",\"startlinecolor\":\"#2a3f5f\"},\"type\":\"carpet\"}],\"table\":[{\"cells\":{\"fill\":{\"color\":\"#EBF0F8\"},\"line\":{\"color\":\"white\"}},\"header\":{\"fill\":{\"color\":\"#C8D4E3\"},\"line\":{\"color\":\"white\"}},\"type\":\"table\"}],\"barpolar\":[{\"marker\":{\"line\":{\"color\":\"#E5ECF6\",\"width\":0.5},\"pattern\":{\"fillmode\":\"overlay\",\"size\":10,\"solidity\":0.2}},\"type\":\"barpolar\"}],\"pie\":[{\"automargin\":true,\"type\":\"pie\"}]},\"layout\":{\"autotypenumbers\":\"strict\",\"colorway\":[\"#636efa\",\"#EF553B\",\"#00cc96\",\"#ab63fa\",\"#FFA15A\",\"#19d3f3\",\"#FF6692\",\"#B6E880\",\"#FF97FF\",\"#FECB52\"],\"font\":{\"color\":\"#2a3f5f\"},\"hovermode\":\"closest\",\"hoverlabel\":{\"align\":\"left\"},\"paper_bgcolor\":\"white\",\"plot_bgcolor\":\"#E5ECF6\",\"polar\":{\"bgcolor\":\"#E5ECF6\",\"angularaxis\":{\"gridcolor\":\"white\",\"linecolor\":\"white\",\"ticks\":\"\"},\"radialaxis\":{\"gridcolor\":\"white\",\"linecolor\":\"white\",\"ticks\":\"\"}},\"ternary\":{\"bgcolor\":\"#E5ECF6\",\"aaxis\":{\"gridcolor\":\"white\",\"linecolor\":\"white\",\"ticks\":\"\"},\"baxis\":{\"gridcolor\":\"white\",\"linecolor\":\"white\",\"ticks\":\"\"},\"caxis\":{\"gridcolor\":\"white\",\"linecolor\":\"white\",\"ticks\":\"\"}},\"coloraxis\":{\"colorbar\":{\"outlinewidth\":0,\"ticks\":\"\"}},\"colorscale\":{\"sequential\":[[0.0,\"#0d0887\"],[0.1111111111111111,\"#46039f\"],[0.2222222222222222,\"#7201a8\"],[0.3333333333333333,\"#9c179e\"],[0.4444444444444444,\"#bd3786\"],[0.5555555555555556,\"#d8576b\"],[0.6666666666666666,\"#ed7953\"],[0.7777777777777778,\"#fb9f3a\"],[0.8888888888888888,\"#fdca26\"],[1.0,\"#f0f921\"]],\"sequentialminus\":[[0.0,\"#0d0887\"],[0.1111111111111111,\"#46039f\"],[0.2222222222222222,\"#7201a8\"],[0.3333333333333333,\"#9c179e\"],[0.4444444444444444,\"#bd3786\"],[0.5555555555555556,\"#d8576b\"],[0.6666666666666666,\"#ed7953\"],[0.7777777777777778,\"#fb9f3a\"],[0.8888888888888888,\"#fdca26\"],[1.0,\"#f0f921\"]],\"diverging\":[[0,\"#8e0152\"],[0.1,\"#c51b7d\"],[0.2,\"#de77ae\"],[0.3,\"#f1b6da\"],[0.4,\"#fde0ef\"],[0.5,\"#f7f7f7\"],[0.6,\"#e6f5d0\"],[0.7,\"#b8e186\"],[0.8,\"#7fbc41\"],[0.9,\"#4d9221\"],[1,\"#276419\"]]},\"xaxis\":{\"gridcolor\":\"white\",\"linecolor\":\"white\",\"ticks\":\"\",\"title\":{\"standoff\":15},\"zerolinecolor\":\"white\",\"automargin\":true,\"zerolinewidth\":2},\"yaxis\":{\"gridcolor\":\"white\",\"linecolor\":\"white\",\"ticks\":\"\",\"title\":{\"standoff\":15},\"zerolinecolor\":\"white\",\"automargin\":true,\"zerolinewidth\":2},\"scene\":{\"xaxis\":{\"backgroundcolor\":\"#E5ECF6\",\"gridcolor\":\"white\",\"linecolor\":\"white\",\"showbackground\":true,\"ticks\":\"\",\"zerolinecolor\":\"white\",\"gridwidth\":2},\"yaxis\":{\"backgroundcolor\":\"#E5ECF6\",\"gridcolor\":\"white\",\"linecolor\":\"white\",\"showbackground\":true,\"ticks\":\"\",\"zerolinecolor\":\"white\",\"gridwidth\":2},\"zaxis\":{\"backgroundcolor\":\"#E5ECF6\",\"gridcolor\":\"white\",\"linecolor\":\"white\",\"showbackground\":true,\"ticks\":\"\",\"zerolinecolor\":\"white\",\"gridwidth\":2}},\"shapedefaults\":{\"line\":{\"color\":\"#2a3f5f\"}},\"annotationdefaults\":{\"arrowcolor\":\"#2a3f5f\",\"arrowhead\":0,\"arrowwidth\":1},\"geo\":{\"bgcolor\":\"white\",\"landcolor\":\"#E5ECF6\",\"subunitcolor\":\"white\",\"showland\":true,\"showlakes\":true,\"lakecolor\":\"white\"},\"title\":{\"x\":0.05},\"mapbox\":{\"style\":\"light\"}}}},                        {\"responsive\": true}                    ).then(function(){\n",
       "                            \n",
       "var gd = document.getElementById('42b5ef38-3468-4d1c-954c-73ca92bdf963');\n",
       "var x = new MutationObserver(function (mutations, observer) {{\n",
       "        var display = window.getComputedStyle(gd).display;\n",
       "        if (!display || display === 'none') {{\n",
       "            console.log([gd, 'removed!']);\n",
       "            Plotly.purge(gd);\n",
       "            observer.disconnect();\n",
       "        }}\n",
       "}});\n",
       "\n",
       "// Listen for the removal of the full notebook cells\n",
       "var notebookContainer = gd.closest('#notebook-container');\n",
       "if (notebookContainer) {{\n",
       "    x.observe(notebookContainer, {childList: true});\n",
       "}}\n",
       "\n",
       "// Listen for the clearing of the current output cell\n",
       "var outputEl = gd.closest('.output');\n",
       "if (outputEl) {{\n",
       "    x.observe(outputEl, {childList: true});\n",
       "}}\n",
       "\n",
       "                        })                };                });            </script>        </div>"
      ]
     },
     "metadata": {},
     "output_type": "display_data"
    }
   ],
   "source": [
    "choropleth = go.Choropleth( \n",
    "    locations = billionaires['country'].value_counts().index, \n",
    "    locationmode = 'country names', \n",
    "    z = billionaires['country'].value_counts().values, \n",
    "    colorscale='Greens',\n",
    "    autocolorscale=False,\n",
    "    colorbar = dict(title = 'Number of Billionaires'), \n",
    "    text=billionaires_dropped['country'].value_counts().index \n",
    ") \n",
    "layout = go.Layout( \n",
    "    title='Billionaires in the World',\n",
    "    geo=dict(scope = 'world', \n",
    "             showlakes = True, \n",
    "             lakecolor = 'rgb(255, 255, 255)' \n",
    "            ), \n",
    "    width = 1000, \n",
    "    height = 600 \n",
    ") \n",
    "fig = go.Figure(data = [choropleth], layout = layout) \n",
    "fig.update_traces(hovertemplate = '<b>%{text}</b><br>Number of Billionaires: %{z}<extra></extra>') \n",
    "fig.show()"
   ]
  },
  {
   "cell_type": "markdown",
   "metadata": {},
   "source": [
    "We are also interested in the number of billionaires who are from countries that are considered as high income countries comparing to not high income countries. As shown below, around 59.5% of the billionaries are from high income countries."
   ]
  },
  {
   "cell_type": "code",
   "execution_count": 136,
   "metadata": {
    "scrolled": false
   },
   "outputs": [
    {
     "name": "stdout",
     "output_type": "stream",
     "text": [
      "{'High Income': 1571, 'Not High Income': 1069}\n"
     ]
    },
    {
     "data": {
      "image/png": "[encoded data removed]",
      "text/plain": [
       "<Figure size 640x480 with 1 Axes>"
      ]
     },
     "metadata": {},
     "output_type": "display_data"
    }
   ],
   "source": [
    "billionaires['high_income'] = [c in high_income_countries for c in billionaires['country']]\n",
    "\n",
    "high_income = {\n",
    "    'High Income': billionaires['high_income'].value_counts()[True], \n",
    "    'Not High Income': billionaires['high_income'].value_counts()[False]\n",
    "}\n",
    "\n",
    "print(high_income)\n",
    "\n",
    "plt.bar(*zip(*(high_income).items()))\n",
    "plt.title(\"Billionaires from High Income Countries and Not High Income Country\")\n",
    "plt.show()"
   ]
  },
  {
   "cell_type": "code",
   "execution_count": 128,
   "metadata": {},
   "outputs": [
    {
     "data": {
      "image/png": "[encoded data removed]",
      "text/plain": [
       "<Figure size 640x480 with 1 Axes>"
      ]
     },
     "metadata": {},
     "output_type": "display_data"
    }
   ],
   "source": [
    "plt.pie(\n",
    "    high_income.values(),\n",
    "    labels=high_income.keys(),\n",
    "    autopct='%1.1f%%',\n",
    "    shadow=True,\n",
    "    startangle=90\n",
    ")\n",
    "plt.show()"
   ]
  },
  {
   "cell_type": "markdown",
   "metadata": {},
   "source": [
    "Since a lot of billionaires are from the United States and China, we wonder whether this would affect the number of billionaires from high income countries vs the number of billionaires from not high income countries. As shown in the pie chart below, the percentages of billionaires from high income countries vs not high income countries are still pretty similar."
   ]
  },
  {
   "cell_type": "code",
   "execution_count": 156,
   "metadata": {},
   "outputs": [
    {
     "name": "stdout",
     "output_type": "stream",
     "text": [
      "{'High Income': 817, 'Not High Income': 546}\n"
     ]
    },
    {
     "data": {
      "image/png": "[encoded data removed]",
      "text/plain": [
       "<Figure size 640x480 with 1 Axes>"
      ]
     },
     "metadata": {},
     "output_type": "display_data"
    }
   ],
   "source": [
    "high_income_exclude = {\n",
    "    'High Income': billionaires[(billionaires['country'] != 'United States') \n",
    "             & (billionaires['country'] != 'China')]['high_income'].value_counts()[True], \n",
    "    'Not High Income': billionaires[(billionaires['country'] != 'United States') \n",
    "             & (billionaires['country'] != 'China')]['high_income'].value_counts()[False]\n",
    "}\n",
    "\n",
    "print(high_income_exclude)\n",
    "\n",
    "plt.pie(\n",
    "    high_income_exclude.values(),\n",
    "    labels=high_income_exclude.keys(),\n",
    "    autopct='%1.1f%%',\n",
    "    shadow=True,\n",
    "    startangle=90\n",
    ")\n",
    "plt.show()"
   ]
  },
  {
   "cell_type": "markdown",
   "metadata": {},
   "source": [
    "Besides, we are also interested in the relationship between the tax rate of a country and the number of billionaires from the country. "
   ]
  },
  {
   "cell_type": "code",
   "execution_count": 258,
   "metadata": {
    "scrolled": false
   },
   "outputs": [
    {
     "data": {
      "text/html": [
       "<div>\n",
       "<style scoped>\n",
       "    .dataframe tbody tr th:only-of-type {\n",
       "        vertical-align: middle;\n",
       "    }\n",
       "\n",
       "    .dataframe tbody tr th {\n",
       "        vertical-align: top;\n",
       "    }\n",
       "\n",
       "    .dataframe thead th {\n",
       "        text-align: right;\n",
       "    }\n",
       "</style>\n",
       "<table border=\"1\" class=\"dataframe\">\n",
       "  <thead>\n",
       "    <tr style=\"text-align: right;\">\n",
       "      <th></th>\n",
       "      <th>country</th>\n",
       "      <th>tax rate</th>\n",
       "      <th>number of billionaires</th>\n",
       "    </tr>\n",
       "  </thead>\n",
       "  <tbody>\n",
       "    <tr>\n",
       "      <th>1</th>\n",
       "      <td>United States</td>\n",
       "      <td>36.6</td>\n",
       "      <td>754</td>\n",
       "    </tr>\n",
       "    <tr>\n",
       "      <th>5</th>\n",
       "      <td>China</td>\n",
       "      <td>59.2</td>\n",
       "      <td>523</td>\n",
       "    </tr>\n",
       "    <tr>\n",
       "      <th>3</th>\n",
       "      <td>India</td>\n",
       "      <td>49.7</td>\n",
       "      <td>157</td>\n",
       "    </tr>\n",
       "    <tr>\n",
       "      <th>7</th>\n",
       "      <td>Germany</td>\n",
       "      <td>48.8</td>\n",
       "      <td>102</td>\n",
       "    </tr>\n",
       "    <tr>\n",
       "      <th>13</th>\n",
       "      <td>United Kingdom</td>\n",
       "      <td>30.6</td>\n",
       "      <td>82</td>\n",
       "    </tr>\n",
       "    <tr>\n",
       "      <th>...</th>\n",
       "      <td>...</td>\n",
       "      <td>...</td>\n",
       "      <td>...</td>\n",
       "    </tr>\n",
       "    <tr>\n",
       "      <th>58</th>\n",
       "      <td>Cambodia</td>\n",
       "      <td>23.1</td>\n",
       "      <td>1</td>\n",
       "    </tr>\n",
       "    <tr>\n",
       "      <th>56</th>\n",
       "      <td>Luxembourg</td>\n",
       "      <td>20.4</td>\n",
       "      <td>1</td>\n",
       "    </tr>\n",
       "    <tr>\n",
       "      <th>23</th>\n",
       "      <td>Uzbekistan</td>\n",
       "      <td>31.6</td>\n",
       "      <td>1</td>\n",
       "    </tr>\n",
       "    <tr>\n",
       "      <th>53</th>\n",
       "      <td>Latvia</td>\n",
       "      <td>38.1</td>\n",
       "      <td>1</td>\n",
       "    </tr>\n",
       "    <tr>\n",
       "      <th>77</th>\n",
       "      <td>Armenia</td>\n",
       "      <td>22.6</td>\n",
       "      <td>1</td>\n",
       "    </tr>\n",
       "  </tbody>\n",
       "</table>\n",
       "<p>66 rows × 3 columns</p>\n",
       "</div>"
      ],
      "text/plain": [
       "           country  tax rate  number of billionaires\n",
       "1    United States      36.6                     754\n",
       "5            China      59.2                     523\n",
       "3            India      49.7                     157\n",
       "7          Germany      48.8                     102\n",
       "13  United Kingdom      30.6                      82\n",
       "..             ...       ...                     ...\n",
       "58        Cambodia      23.1                       1\n",
       "56      Luxembourg      20.4                       1\n",
       "23      Uzbekistan      31.6                       1\n",
       "53          Latvia      38.1                       1\n",
       "77         Armenia      22.6                       1\n",
       "\n",
       "[66 rows x 3 columns]"
      ]
     },
     "execution_count": 258,
     "metadata": {},
     "output_type": "execute_result"
    }
   ],
   "source": [
    "tax_rate_dict = {}\n",
    "\n",
    "for i in range(len(billionaires)):\n",
    "    if billionaires.loc[i, 'country'] in billionaires['country'].value_counts().index:\n",
    "        tax_rate_dict[billionaires.loc[i, 'country']] = billionaires.loc[i, 'total_tax_rate_country']\n",
    "\n",
    "tax_rate = pd.DataFrame(tax_rate_dict.items(), columns=['country', 'tax rate']).merge(\n",
    "    pd.DataFrame(\n",
    "        dict(billionaires['country'].value_counts()).items(), \n",
    "        columns=['country', 'number of billionaires']\n",
    "    )[['country', 'number of billionaires']]\n",
    ")\n",
    "\n",
    "tax_rate = tax_rate.dropna(subset=['tax rate']).sort_values('number of billionaires', ascending=False)\n",
    "\n",
    "tax_rate"
   ]
  },
  {
   "cell_type": "code",
   "execution_count": 281,
   "metadata": {
    "scrolled": false
   },
   "outputs": [
    {
     "data": {
      "text/plain": [
       "<Axes: xlabel='tax rate'>"
      ]
     },
     "execution_count": 281,
     "metadata": {},
     "output_type": "execute_result"
    },
    {
     "data": {
      "image/png": "[encoded data removed]",
      "text/plain": [
       "<Figure size 640x480 with 1 Axes>"
      ]
     },
     "metadata": {},
     "output_type": "display_data"
    }
   ],
   "source": [
    "sns.boxplot(x=tax_rate[\"tax rate\"])"
   ]
  },
  {
   "cell_type": "markdown",
   "metadata": {},
   "source": [
    "As shown in the above boxplot, there is a country that is an outlier in terms of tax rate with relatively high tax rate and the country is argentina with 106.3 tax rate."
   ]
  },
  {
   "cell_type": "code",
   "execution_count": 292,
   "metadata": {},
   "outputs": [
    {
     "name": "stdout",
     "output_type": "stream",
     "text": [
      "Tax rate in  Argentina  is  106.3\n"
     ]
    }
   ],
   "source": [
    "print(\"Tax rate in \", \n",
    "      list(tax_rate['country'])[np.argmax(list(tax_rate['tax rate']))], \n",
    "      \" is \", \n",
    "      max(list(tax_rate['tax rate'])))"
   ]
  },
  {
   "cell_type": "markdown",
   "metadata": {},
   "source": [
    "Furthermore, we look into the tax rate of the top 20 countries that billionaires are from."
   ]
  },
  {
   "cell_type": "code",
   "execution_count": 272,
   "metadata": {
    "scrolled": false
   },
   "outputs": [
    {
     "data": {
      "image/png": "[encoded data removed]",
      "text/plain": [
       "<Figure size 640x480 with 1 Axes>"
      ]
     },
     "metadata": {},
     "output_type": "display_data"
    }
   ],
   "source": [
    "top_20 = tax_rate.head(20)\n",
    "plt.bar(x=top_20['country'], height=top_20['tax rate'])\n",
    "plt.xticks(rotation=75)\n",
    "plt.xlabel('Country')\n",
    "plt.ylabel('Tax Rate')\n",
    "plt.show()"
   ]
  },
  {
   "cell_type": "code",
   "execution_count": 273,
   "metadata": {},
   "outputs": [
    {
     "data": {
      "text/plain": [
       "<Axes: xlabel='tax rate', ylabel='number of billionaires'>"
      ]
     },
     "execution_count": 273,
     "metadata": {},
     "output_type": "execute_result"
    },
    {
     "data": {
      "image/png": "[encoded data removed]",
      "text/plain": [
       "<Figure size 640x480 with 1 Axes>"
      ]
     },
     "metadata": {},
     "output_type": "display_data"
    }
   ],
   "source": [
    "sns.scatterplot(top_20, x='tax rate', y='number of billionaires')"
   ]
  },
  {
   "cell_type": "markdown",
   "metadata": {},
   "source": [
    "Since the United States, China, and India seem to be the outliers in terms of the number of billionaires from them, we excludeded them and tried to see if that affected the results.  \n",
    "\n",
    "From the scatter plots below, it still seems that the correlations between the number of billionaires from a country and the country's tax rate is not very high."
   ]
  },
  {
   "cell_type": "code",
   "execution_count": 297,
   "metadata": {},
   "outputs": [
    {
     "data": {
      "text/plain": [
       "<Axes: xlabel='tax rate', ylabel='number of billionaires'>"
      ]
     },
     "execution_count": 297,
     "metadata": {},
     "output_type": "execute_result"
    },
    {
     "data": {
      "image/png": "[encoded data removed]",
      "text/plain": [
       "<Figure size 640x480 with 1 Axes>"
      ]
     },
     "metadata": {},
     "output_type": "display_data"
    }
   ],
   "source": [
    "sns.scatterplot(top_20[(top_20['country'] != 'United States') & \n",
    "                       (top_20['country'] != 'China') & \n",
    "                       (top_20['country'] != 'India')], \n",
    "                x='tax rate', y='number of billionaires')"
   ]
  },
  {
   "cell_type": "markdown",
   "metadata": {},
   "source": [
    "### Section 2 of EDA if you need it  - please give it a better title than this\n",
    "\n",
    "Some more words and stuff.  Remember notebooks work best if you interleave the code that generates a result with properly annotate figures and text that puts these results into context."
   ]
  },
  {
   "cell_type": "code",
   "execution_count": 141,
   "metadata": {},
   "outputs": [
    {
     "data": {
      "image/png": "[encoded data removed]",
      "text/plain": [
       "<Figure size 1400x700 with 2 Axes>"
      ]
     },
     "metadata": {},
     "output_type": "display_data"
    }
   ],
   "source": [
    "## YOUR CODE HERE\n",
    "## FEEL FREE TO ADD MULTIPLE CELLS PER SECTION\n",
    "\n",
    "plt.figure(figsize=(14, 7))\n",
    "\n",
    "# Histogram for Gross Tertiary Education Enrollment\n",
    "plt.subplot(1, 2, 1)\n",
    "sns.histplot(data= billionaires_dropped, x='gross_tertiary_education_enrollment', hue='high_income', element='step', bins=30)\n",
    "plt.title('Histogram of Gross Tertiary Education Enrollment')\n",
    "plt.xlabel('Gross Tertiary Education Enrollment (%)')\n",
    "plt.ylabel('Count')\n",
    "\n",
    "# Histogram for Gross Primary Education Enrollment\n",
    "plt.subplot(1, 2, 2)\n",
    "sns.histplot(data=billionaires_dropped, x='gross_primary_education_enrollment_country', hue='high_income', element='step', bins=30)\n",
    "plt.title('Histogram of Gross Primary Education Enrollment')\n",
    "plt.xlabel('Gross Primary Education Enrollment Country (%)')\n",
    "plt.ylabel('Count')\n",
    "\n",
    "# Adjusting layout for better visualization\n",
    "plt.tight_layout()\n",
    "\n",
    "plt.show()"
   ]
  },
  {
   "cell_type": "markdown",
   "metadata": {},
   "source": [
    "# Ethics & Privacy"
   ]
  },
  {
   "cell_type": "markdown",
   "metadata": {},
   "source": [
    "It seems like the data was gathered through publically available sources so it would not seem like we need to get consent from these public figures to include them in our study. It could be possible that some billionaires may have been left out because of being less well known or from smaller countries. Because we did not collect the data directly from the billionaires directly, there could be bias present in the data. We can maybe try to find the sources that were used to compile this data and see for oursleves if there may be any previous bias present. We also do not get insight into the backgrounds of these billionaires as some may have started with more money and thus had an easier time building their wealth. Additionally, it may be easier to become a billionaire in certain countries rather than others. In order to detect these biases, we may want to perform an exploratory analysis on the data to determine which countries might have a large proportion of billionaires compared to population. It may also be possible that gender and age bias regarding billionaire status and how calculations of wealth are determined. We could try to find more data about the ages that people first became billionaires."
   ]
  },
  {
   "cell_type": "markdown",
   "metadata": {},
   "source": [
    "# Team Expectations "
   ]
  },
  {
   "cell_type": "markdown",
   "metadata": {},
   "source": [
    "* *We expect to meet at least once a week over Zoom to discuss our progress while communicating regularly throughout the week over Discord.*\n",
    "* *If any conflict should arise, we can meet and talk it over and come to a resolution. If no resolution can be found, we will try to meet with professor to help us resolve our problem.*\n",
    "* *Everybody will do their fair share of work whether we are meeting together or we have divided up the work individually.*"
   ]
  },
  {
   "cell_type": "markdown",
   "metadata": {},
   "source": [
    "# Project Timeline Proposal"
   ]
  },
  {
   "cell_type": "markdown",
   "metadata": {},
   "source": [
    "Specify your team's specific project timeline. An example timeline has been provided. Changes the dates, times, names, and details to fit your group's plan.\n",
    "\n",
    "If you think you will need any special resources or training outside what we have covered in COGS 108 to solve your problem, then your proposal should state these clearly. For example, if you have selected a problem that involves implementing multiple neural networks, please state this so we can make sure you know what you’re doing and so we can point you to resources you will need to implement your project. Note that you are not required to use outside methods.\n",
    "\n",
    "\n",
    "\n",
    "| Meeting Date  | Meeting Time| Completed Before Meeting  | Discuss at Meeting |\n",
    "|---|---|---|---|\n",
    "| 1/20  |  1 PM | Read & Think about COGS 108 expectations; brainstorm topics/questions  | Determine best form of communication; Discuss and decide on final project topic; discuss hypothesis; begin background research | \n",
    "| 1/26  |  10 AM |  Do background research on topic | Discuss ideal dataset(s) and ethics; draft project proposal | \n",
    "| 2/1  | 10 AM  | Edit, finalize, and submit proposal; Search for datasets  | Discuss Wrangling and possible analytical approaches; Assign group members to lead each specific part   |\n",
    "| 2/14  | 6 PM  | Import & Wrangle Data (Ant Man); EDA (Hulk) | Review/Edit wrangling/EDA; Discuss Analysis Plan   |\n",
    "| 2/23  | 12 PM  | Finalize wrangling/EDA; Begin Analysis (Iron Man; Thor) | Discuss/edit Analysis; Complete project check-in |\n",
    "| 3/13  | 12 PM  | Complete analysis; Draft results/conclusion/discussion (Wasp)| Discuss/edit full project |\n",
    "| 3/20  | Before 11:59 PM  | NA | Turn in Final Project & Group Project Surveys |"
   ]
  }
 ],
 "metadata": {
  "kernelspec": {
   "display_name": "Python 3 (ipykernel)",
   "language": "python",
   "name": "python3"
  },
  "language_info": {
   "codemirror_mode": {
    "name": "ipython",
    "version": 3
   },
   "file_extension": ".py",
   "mimetype": "text/x-python",
   "name": "python",
   "nbconvert_exporter": "python",
   "pygments_lexer": "ipython3",
   "version": "3.10.9"
  }
 },
 "nbformat": 4,
 "nbformat_minor": 2
}
